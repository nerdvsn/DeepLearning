{
  "nbformat": 4,
  "nbformat_minor": 0,
  "metadata": {
    "colab": {
      "provenance": [],
      "gpuType": "T4",
      "authorship_tag": "ABX9TyMG0JQ77ee/T+eM+dAasvy0",
      "include_colab_link": true
    },
    "kernelspec": {
      "name": "python3",
      "display_name": "Python 3"
    },
    "language_info": {
      "name": "python"
    },
    "accelerator": "GPU"
  },
  "cells": [
    {
      "cell_type": "markdown",
      "metadata": {
        "id": "view-in-github",
        "colab_type": "text"
      },
      "source": [
        "<a href=\"https://colab.research.google.com/github/gracialukelo/deep_ann/blob/main/iris_nn.ipynb\" target=\"_parent\"><img src=\"https://colab.research.google.com/assets/colab-badge.svg\" alt=\"Open In Colab\"/></a>"
      ]
    },
    {
      "cell_type": "code",
      "execution_count": 5,
      "metadata": {
        "id": "2-6WcsRT3Nf5"
      },
      "outputs": [],
      "source": [
        "import torch\n",
        "import torch.nn as nn\n",
        "import torch.optim as optim\n",
        "from torch.utils.data import DataLoader, TensorDataset\n",
        "from sklearn.datasets import load_iris\n",
        "from sklearn.model_selection import train_test_split\n",
        "from sklearn.preprocessing import StandardScaler\n",
        "import matplotlib.pyplot as plt"
      ]
    },
    {
      "cell_type": "code",
      "source": [
        "# 1. Daten laden und verarbeiten\n",
        "iris = load_iris()\n",
        "X, y = iris.data, iris.target\n",
        "X.shape, y.shape"
      ],
      "metadata": {
        "colab": {
          "base_uri": "https://localhost:8080/"
        },
        "id": "UvL_2DIzE46k",
        "outputId": "9c60b85b-f034-467e-8ec0-34f4387b4dfb"
      },
      "execution_count": 15,
      "outputs": [
        {
          "output_type": "execute_result",
          "data": {
            "text/plain": [
              "((150, 4), (150,))"
            ]
          },
          "metadata": {},
          "execution_count": 15
        }
      ]
    },
    {
      "cell_type": "code",
      "source": [
        "# One Hot Encoding\n",
        "y = torch.nn.functional.one_hot(torch.tensor(y), num_classes=3)\n",
        "y.shape"
      ],
      "metadata": {
        "colab": {
          "base_uri": "https://localhost:8080/"
        },
        "id": "jUrG4X2mFvms",
        "outputId": "9425d110-f3df-46de-c7af-7a1532bd1cc4"
      },
      "execution_count": 16,
      "outputs": [
        {
          "output_type": "execute_result",
          "data": {
            "text/plain": [
              "torch.Size([150, 3])"
            ]
          },
          "metadata": {},
          "execution_count": 16
        }
      ]
    },
    {
      "cell_type": "code",
      "source": [
        "# 3. Train-Test-Split\n",
        "X_train, X_test, y_train, y_test = train_test_split(X, y, test_size=0.2, random_state=42)"
      ],
      "metadata": {
        "id": "iacyxCdEGOyg"
      },
      "execution_count": 17,
      "outputs": []
    },
    {
      "cell_type": "markdown",
      "source": [
        "z= x−μ/𝜎\n",
        "\n",
        "x: Der ursprüngliche Wert eines Features.\n",
        "\n",
        "μ: Der Mittelwert des Features (über die Trainingsdaten berechnet).\n",
        "\n",
        "σ: Die Standardabweichung des Features (über die Trainingsdaten berechnet)."
      ],
      "metadata": {
        "id": "tQC9feUARAQt"
      }
    },
    {
      "cell_type": "code",
      "source": [
        "# Daten normalisieren\n",
        "scaler = StandardScaler()\n",
        "X_train = scaler.fit_transform(X_train)\n",
        "X_test = scaler.transform(X_test)"
      ],
      "metadata": {
        "id": "n4BvpikRGfm9"
      },
      "execution_count": 20,
      "outputs": []
    },
    {
      "cell_type": "code",
      "source": [
        "# In Tensoren umwandeln\n",
        "X_train = torch.tensor(X_train, dtype=torch.float32)\n",
        "X_test = torch.tensor(X_test, dtype=torch.float32)\n",
        "y_train = torch.tensor(y_train, dtype=torch.float32)\n",
        "y_test = torch.tensor(y_test, dtype=torch.float32)"
      ],
      "metadata": {
        "colab": {
          "base_uri": "https://localhost:8080/"
        },
        "id": "Xt5ML1mmGt31",
        "outputId": "45c73b0d-d23b-4dfc-b12f-665f8d6ee75f"
      },
      "execution_count": 22,
      "outputs": [
        {
          "output_type": "stream",
          "name": "stderr",
          "text": [
            "<ipython-input-22-4ab7edf6e79c>:4: UserWarning: To copy construct from a tensor, it is recommended to use sourceTensor.clone().detach() or sourceTensor.clone().detach().requires_grad_(True), rather than torch.tensor(sourceTensor).\n",
            "  y_train = torch.tensor(y_train, dtype=torch.float32)\n",
            "<ipython-input-22-4ab7edf6e79c>:5: UserWarning: To copy construct from a tensor, it is recommended to use sourceTensor.clone().detach() or sourceTensor.clone().detach().requires_grad_(True), rather than torch.tensor(sourceTensor).\n",
            "  y_test = torch.tensor(y_test, dtype=torch.float32)\n"
          ]
        }
      ]
    },
    {
      "cell_type": "code",
      "source": [
        "# Datenloader erstellen\n",
        "train_dataset = TensorDataset(X_train, y_train)\n",
        "train_loader = DataLoader(train_dataset, batch_size=16, shuffle=True)"
      ],
      "metadata": {
        "id": "iYwrFTwPHCOT"
      },
      "execution_count": 23,
      "outputs": []
    },
    {
      "cell_type": "code",
      "source": [
        "# 2. Defition des Models\n",
        "import torch.nn.functional as F\n",
        "\n",
        "class Modell(nn.Module):\n",
        "  def __init__(self, in_features=4, h1=8, h2=9, out_features=3):\n",
        "    super(Modell, self).__init__()\n",
        "    self.fc1 = nn.Linear(in_features, h1)\n",
        "    self.fc2 = nn.Linear(h1, h2)\n",
        "    self.out = nn.Linear(h2, out_features)\n",
        "\n",
        "  def forward(self, x):\n",
        "    x = F.relu(self.fc1(x))\n",
        "    x = F.relu(self.fc2(x))\n",
        "    x = self.out(x)\n",
        "    return x\n",
        "\n",
        "model = Modell(in_features=4, h1=8, h2=16, out_features=3)\n",
        "model"
      ],
      "metadata": {
        "colab": {
          "base_uri": "https://localhost:8080/"
        },
        "id": "Yaalm9UC3-Dn",
        "outputId": "828009e0-dd24-4466-b1aa-210c6b8d0cd4"
      },
      "execution_count": 25,
      "outputs": [
        {
          "output_type": "execute_result",
          "data": {
            "text/plain": [
              "Modell(\n",
              "  (fc1): Linear(in_features=4, out_features=8, bias=True)\n",
              "  (fc2): Linear(in_features=8, out_features=16, bias=True)\n",
              "  (out): Linear(in_features=16, out_features=3, bias=True)\n",
              ")"
            ]
          },
          "metadata": {},
          "execution_count": 25
        }
      ]
    },
    {
      "cell_type": "code",
      "source": [
        "# 3. Training\n",
        "\n",
        "criterion = nn.CrossEntropyLoss()\n",
        "optimizer = optim.Adam(model.parameters(), lr=0.01)\n",
        "\n",
        "epochs = 100\n",
        "train_losses = []\n",
        "\n",
        "for epoch in range(epochs):\n",
        "  model.train()\n",
        "  epoch_loss = 0\n",
        "  for X_batch, y_batch in train_loader:\n",
        "    # Vorwärtsdurchlauf\n",
        "    output = model(X_batch)\n",
        "    loss = criterion(output, y_batch.argmax(dim=1))\n",
        "\n",
        "    # Gradient\n",
        "    optimizer.zero_grad()\n",
        "\n",
        "    # Rückwärtsdurchlauf und Optimierung\n",
        "    loss.backward()\n",
        "    optimizer.step()\n",
        "\n",
        "    epoch_loss += loss.item()\n",
        "  train_losses.append(epoch_loss / len(train_loader))\n",
        "  print(f\"Epoch {epoch+1}/{epochs}, Loss: {epoch_loss / len(train_loader):.4f}\")\n",
        ""
      ],
      "metadata": {
        "colab": {
          "base_uri": "https://localhost:8080/"
        },
        "id": "PjcxPVyiD9Ey",
        "outputId": "7b0cdbd2-e95b-481d-a62b-22e59eb261e2"
      },
      "execution_count": 26,
      "outputs": [
        {
          "output_type": "stream",
          "name": "stdout",
          "text": [
            "Epoch 1/100, Loss: 1.0323\n",
            "Epoch 2/100, Loss: 0.8007\n",
            "Epoch 3/100, Loss: 0.5918\n",
            "Epoch 4/100, Loss: 0.4734\n",
            "Epoch 5/100, Loss: 0.3822\n",
            "Epoch 6/100, Loss: 0.3167\n",
            "Epoch 7/100, Loss: 0.2539\n",
            "Epoch 8/100, Loss: 0.1865\n",
            "Epoch 9/100, Loss: 0.1431\n",
            "Epoch 10/100, Loss: 0.1050\n",
            "Epoch 11/100, Loss: 0.0941\n",
            "Epoch 12/100, Loss: 0.0930\n",
            "Epoch 13/100, Loss: 0.0711\n",
            "Epoch 14/100, Loss: 0.0602\n",
            "Epoch 15/100, Loss: 0.0804\n",
            "Epoch 16/100, Loss: 0.0744\n",
            "Epoch 17/100, Loss: 0.0796\n",
            "Epoch 18/100, Loss: 0.0820\n",
            "Epoch 19/100, Loss: 0.0958\n",
            "Epoch 20/100, Loss: 0.0592\n",
            "Epoch 21/100, Loss: 0.0569\n",
            "Epoch 22/100, Loss: 0.0719\n",
            "Epoch 23/100, Loss: 0.0586\n",
            "Epoch 24/100, Loss: 0.0568\n",
            "Epoch 25/100, Loss: 0.0546\n",
            "Epoch 26/100, Loss: 0.0699\n",
            "Epoch 27/100, Loss: 0.0497\n",
            "Epoch 28/100, Loss: 0.0505\n",
            "Epoch 29/100, Loss: 0.0444\n",
            "Epoch 30/100, Loss: 0.0435\n",
            "Epoch 31/100, Loss: 0.0422\n",
            "Epoch 32/100, Loss: 0.0432\n",
            "Epoch 33/100, Loss: 0.0465\n",
            "Epoch 34/100, Loss: 0.0432\n",
            "Epoch 35/100, Loss: 0.0501\n",
            "Epoch 36/100, Loss: 0.0451\n",
            "Epoch 37/100, Loss: 0.0473\n",
            "Epoch 38/100, Loss: 0.0555\n",
            "Epoch 39/100, Loss: 0.0371\n",
            "Epoch 40/100, Loss: 0.0601\n",
            "Epoch 41/100, Loss: 0.0604\n",
            "Epoch 42/100, Loss: 0.0427\n",
            "Epoch 43/100, Loss: 0.0471\n",
            "Epoch 44/100, Loss: 0.0402\n",
            "Epoch 45/100, Loss: 0.0542\n",
            "Epoch 46/100, Loss: 0.0487\n",
            "Epoch 47/100, Loss: 0.0521\n",
            "Epoch 48/100, Loss: 0.0652\n",
            "Epoch 49/100, Loss: 0.0411\n",
            "Epoch 50/100, Loss: 0.0428\n",
            "Epoch 51/100, Loss: 0.0396\n",
            "Epoch 52/100, Loss: 0.0461\n",
            "Epoch 53/100, Loss: 0.0440\n",
            "Epoch 54/100, Loss: 0.0398\n",
            "Epoch 55/100, Loss: 0.0386\n",
            "Epoch 56/100, Loss: 0.0371\n",
            "Epoch 57/100, Loss: 0.0475\n",
            "Epoch 58/100, Loss: 0.0559\n",
            "Epoch 59/100, Loss: 0.0533\n",
            "Epoch 60/100, Loss: 0.0855\n",
            "Epoch 61/100, Loss: 0.0614\n",
            "Epoch 62/100, Loss: 0.0425\n",
            "Epoch 63/100, Loss: 0.0489\n",
            "Epoch 64/100, Loss: 0.0391\n",
            "Epoch 65/100, Loss: 0.0712\n",
            "Epoch 66/100, Loss: 0.0425\n",
            "Epoch 67/100, Loss: 0.0383\n",
            "Epoch 68/100, Loss: 0.0414\n",
            "Epoch 69/100, Loss: 0.0409\n",
            "Epoch 70/100, Loss: 0.0413\n",
            "Epoch 71/100, Loss: 0.0491\n",
            "Epoch 72/100, Loss: 0.0412\n",
            "Epoch 73/100, Loss: 0.0550\n",
            "Epoch 74/100, Loss: 0.0606\n",
            "Epoch 75/100, Loss: 0.0345\n",
            "Epoch 76/100, Loss: 0.0535\n",
            "Epoch 77/100, Loss: 0.0462\n",
            "Epoch 78/100, Loss: 0.0426\n",
            "Epoch 79/100, Loss: 0.0365\n",
            "Epoch 80/100, Loss: 0.0351\n",
            "Epoch 81/100, Loss: 0.0345\n",
            "Epoch 82/100, Loss: 0.0370\n",
            "Epoch 83/100, Loss: 0.0361\n",
            "Epoch 84/100, Loss: 0.0350\n",
            "Epoch 85/100, Loss: 0.0366\n",
            "Epoch 86/100, Loss: 0.0368\n",
            "Epoch 87/100, Loss: 0.0448\n",
            "Epoch 88/100, Loss: 0.0379\n",
            "Epoch 89/100, Loss: 0.0360\n",
            "Epoch 90/100, Loss: 0.0341\n",
            "Epoch 91/100, Loss: 0.0335\n",
            "Epoch 92/100, Loss: 0.0372\n",
            "Epoch 93/100, Loss: 0.0314\n",
            "Epoch 94/100, Loss: 0.0355\n",
            "Epoch 95/100, Loss: 0.0345\n",
            "Epoch 96/100, Loss: 0.0408\n",
            "Epoch 97/100, Loss: 0.0294\n",
            "Epoch 98/100, Loss: 0.0348\n",
            "Epoch 99/100, Loss: 0.0326\n",
            "Epoch 100/100, Loss: 0.0336\n"
          ]
        }
      ]
    },
    {
      "cell_type": "code",
      "source": [
        "# Training visualisieren\n",
        "plt.plot(range(1, epochs+1), train_losses, label=\"Training Loss\")\n",
        "plt.xlabel(\"Epoch\")\n",
        "plt.ylabel(\"Loss\")\n",
        "plt.title(\"Training Loss over Epochs\")\n",
        "plt.legend()\n",
        "plt.show()"
      ],
      "metadata": {
        "colab": {
          "base_uri": "https://localhost:8080/",
          "height": 472
        },
        "id": "LNvrLb51J3PR",
        "outputId": "b7dfd5b1-4b30-4a2c-8f86-db1cf5442da8"
      },
      "execution_count": 27,
      "outputs": [
        {
          "output_type": "display_data",
          "data": {
            "text/plain": [
              "<Figure size 640x480 with 1 Axes>"
            ],
            "image/png": "[encoded data removed]"
          },
          "metadata": {}
        }
      ]
    },
    {
      "cell_type": "code",
      "source": [
        "# 5. Modell speichern\n",
        "torch.save(model.state_dict(), \"/content/iris_model.pth\")"
      ],
      "metadata": {
        "id": "MrlVeTxLKJa1"
      },
      "execution_count": 32,
      "outputs": []
    },
    {
      "cell_type": "code",
      "source": [
        "# Modell laden\n",
        "loaded_model = Modell(in_features=4, h1=8, h2=16, out_features=3)\n",
        "loaded_model.load_state_dict(torch.load(\"/content/iris_model.pth\"))\n",
        "loaded_model.eval()\n",
        "print(\"Modell erfolgreich geladen.\")\n"
      ],
      "metadata": {
        "colab": {
          "base_uri": "https://localhost:8080/"
        },
        "id": "-fn3b3cVKXaN",
        "outputId": "ec1cc32d-a336-4a49-b8d9-480dc3597126"
      },
      "execution_count": 34,
      "outputs": [
        {
          "output_type": "stream",
          "name": "stdout",
          "text": [
            "Modell erfolgreich geladen.\n"
          ]
        },
        {
          "output_type": "stream",
          "name": "stderr",
          "text": [
            "<ipython-input-34-378d76c75696>:3: FutureWarning: You are using `torch.load` with `weights_only=False` (the current default value), which uses the default pickle module implicitly. It is possible to construct malicious pickle data which will execute arbitrary code during unpickling (See https://github.com/pytorch/pytorch/blob/main/SECURITY.md#untrusted-models for more details). In a future release, the default value for `weights_only` will be flipped to `True`. This limits the functions that could be executed during unpickling. Arbitrary objects will no longer be allowed to be loaded via this mode unless they are explicitly allowlisted by the user via `torch.serialization.add_safe_globals`. We recommend you start setting `weights_only=True` for any use case where you don't have full control of the loaded file. Please open an issue on GitHub for any issues related to this experimental feature.\n",
            "  loaded_model.load_state_dict(torch.load(\"/content/iris_model.pth\"))\n"
          ]
        }
      ]
    },
    {
      "cell_type": "code",
      "source": [
        "with torch.no_grad():\n",
        "  y_pred = loaded_model(X_test)\n",
        "  y_pred_classes = torch.argmax(y_pred, dim=1)\n",
        "  y_true_classes = torch.argmax(y_test, dim=1)\n",
        "\n",
        "\n",
        "# Ergebnisse anzeigen\n",
        "accuracy = (y_pred_classes == y_true_classes).sum().item() / len(y_true_classes)\n",
        "print(f\"Accuracy on test data: {accuracy * 100:.2f}%\")"
      ],
      "metadata": {
        "colab": {
          "base_uri": "https://localhost:8080/"
        },
        "id": "D370OLYkKkMx",
        "outputId": "6d9ebb24-7c18-4416-de38-bedf8bc6eb63"
      },
      "execution_count": 36,
      "outputs": [
        {
          "output_type": "stream",
          "name": "stdout",
          "text": [
            "Accuracy on test data: 96.67%\n"
          ]
        }
      ]
    },
    {
      "cell_type": "code",
      "source": [
        "# Funktion zur Vorhersage einzelner Datenpunkte\n",
        "def predict_iris_class(features, model, scaler):\n",
        "    \"\"\"\n",
        "    Funktion zur Vorhersage der Iris-Art basierend auf Eingabe-Features.\n",
        "    :param features: Liste von 4 numerischen Werten [SepalLength, SepalWidth, PetalLength, PetalWidth]\n",
        "    :param model: Das trainierte Modell\n",
        "    :param scaler: Der StandardScaler für die Normalisierung\n",
        "    :return: Vorhergesagte Iris-Art\n",
        "    \"\"\"\n",
        "    # Normalisieren der Eingabefeatures\n",
        "    features = scaler.transform([features])\n",
        "    features_tensor = torch.tensor(features, dtype=torch.float32)\n",
        "\n",
        "    # Vorhersage mit dem Modell\n",
        "    with torch.no_grad():\n",
        "        output = model(features_tensor)\n",
        "        predicted_class = torch.argmax(output, dim=1).item()\n",
        "\n",
        "    # Mapping der Klassen-ID zu Namen\n",
        "    class_mapping = {0: \"Setosa\", 1: \"Versicolor\", 2: \"Virginica\"}\n",
        "    return class_mapping[predicted_class]\n",
        "\n",
        "# Beispiel: Eingabe eines neuen Datenpunkts\n",
        "new_features = [5.1, 3.5, 1.4, 0.2]  # Beispielwerte für SepalLength, SepalWidth, PetalLength, PetalWidth\n",
        "predicted_class = predict_iris_class(new_features, loaded_model, scaler)\n",
        "print(f\"Die vorhergesagte Iris-Art für die Eingabe {new_features} ist: {predicted_class}\")"
      ],
      "metadata": {
        "colab": {
          "base_uri": "https://localhost:8080/"
        },
        "id": "R8CL3EnXPZae",
        "outputId": "a10fae94-2fd9-4b78-9519-341e7b00f99e"
      },
      "execution_count": 37,
      "outputs": [
        {
          "output_type": "stream",
          "name": "stdout",
          "text": [
            "Die vorhergesagte Iris-Art für die Eingabe [5.1, 3.5, 1.4, 0.2] ist: Setosa\n"
          ]
        }
      ]
    },
    {
      "cell_type": "code",
      "source": [],
      "metadata": {
        "id": "X8nyaoR2QKre"
      },
      "execution_count": null,
      "outputs": []
    }
  ]
}