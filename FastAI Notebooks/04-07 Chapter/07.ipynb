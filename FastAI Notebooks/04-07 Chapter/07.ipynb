{
 "cells": [
  {
   "cell_type": "markdown",
   "id": "a27d1490",
   "metadata": {},
   "source": [
    "### Ziel dieses Kapitels: State-of-the-Art Model\n",
    "\n",
    "Dir Techniken zu zeigen, mit denen du das Maximum aus deinem Datensatz rausholen \n"
   ]
  },
  {
   "cell_type": "code",
   "execution_count": 1,
   "id": "d0b4c6b6",
   "metadata": {},
   "outputs": [],
   "source": [
    "from fastai.vision.all import *\n",
    "path = untar_data(URLs.IMAGENETTE)"
   ]
  },
  {
   "cell_type": "code",
   "execution_count": 2,
   "id": "8e1892f3",
   "metadata": {},
   "outputs": [],
   "source": [
    "dblock = DataBlock(\n",
    "    blocks=(ImageBlock(), CategoryBlock()),\n",
    "    get_items=get_image_files,\n",
    "    get_y=parent_label,  # Nimm den Ordnernamen als Label \n",
    "    item_tfms=Resize(224),  # Kleineres Bild\n",
    "    batch_tfms=aug_transforms(size=128, min_scale=0.5)  # Weniger VRAM\n",
    ")\n",
    "dls = dblock.dataloaders(path, bs=4)"
   ]
  },
  {
   "cell_type": "code",
   "execution_count": 3,
   "id": "775bf044",
   "metadata": {},
   "outputs": [
    {
     "name": "stderr",
     "output_type": "stream",
     "text": [
      "/home/lukelo-tshakulongo/Bankoko/φ-σ-Ω/Computer Science/Code/Mulandu/DLConcepts/venv/lib/python3.12/site-packages/fastai/callback/fp16.py:47: FutureWarning: `torch.cuda.amp.autocast(args...)` is deprecated. Please use `torch.amp.autocast('cuda', args...)` instead.\n",
      "  self.autocast,self.learn.scaler,self.scales = autocast(dtype=dtype),GradScaler(**self.kwargs),L()\n",
      "/home/lukelo-tshakulongo/Bankoko/φ-σ-Ω/Computer Science/Code/Mulandu/DLConcepts/venv/lib/python3.12/site-packages/fastai/callback/fp16.py:47: FutureWarning: `torch.cuda.amp.GradScaler(args...)` is deprecated. Please use `torch.amp.GradScaler('cuda', args...)` instead.\n",
      "  self.autocast,self.learn.scaler,self.scales = autocast(dtype=dtype),GradScaler(**self.kwargs),L()\n"
     ]
    },
    {
     "data": {
      "text/html": [
       "\n",
       "<style>\n",
       "    /* Turns off some styling */\n",
       "    progress {\n",
       "        /* gets rid of default border in Firefox and Opera. */\n",
       "        border: none;\n",
       "        /* Needs to be in here for Safari polyfill so background images work as expected. */\n",
       "        background-size: auto;\n",
       "    }\n",
       "    progress:not([value]), progress:not([value])::-webkit-progress-bar {\n",
       "        background: repeating-linear-gradient(45deg, #7e7e7e, #7e7e7e 10px, #5c5c5c 10px, #5c5c5c 20px);\n",
       "    }\n",
       "    .progress-bar-interrupted, .progress-bar-interrupted::-webkit-progress-bar {\n",
       "        background: #F44336;\n",
       "    }\n",
       "</style>\n"
      ],
      "text/plain": [
       "<IPython.core.display.HTML object>"
      ]
     },
     "metadata": {},
     "output_type": "display_data"
    },
    {
     "data": {
      "text/html": [
       "<table border=\"1\" class=\"dataframe\">\n",
       "  <thead>\n",
       "    <tr style=\"text-align: left;\">\n",
       "      <th>epoch</th>\n",
       "      <th>train_loss</th>\n",
       "      <th>valid_loss</th>\n",
       "      <th>accuracy</th>\n",
       "      <th>time</th>\n",
       "    </tr>\n",
       "  </thead>\n",
       "  <tbody>\n",
       "    <tr>\n",
       "      <td>0</td>\n",
       "      <td>1.762589</td>\n",
       "      <td>1.657759</td>\n",
       "      <td>0.501494</td>\n",
       "      <td>02:16</td>\n",
       "    </tr>\n",
       "    <tr>\n",
       "      <td>1</td>\n",
       "      <td>1.282994</td>\n",
       "      <td>1.076227</td>\n",
       "      <td>0.668409</td>\n",
       "      <td>02:14</td>\n",
       "    </tr>\n",
       "    <tr>\n",
       "      <td>2</td>\n",
       "      <td>1.033945</td>\n",
       "      <td>1.002424</td>\n",
       "      <td>0.697909</td>\n",
       "      <td>02:21</td>\n",
       "    </tr>\n",
       "    <tr>\n",
       "      <td>3</td>\n",
       "      <td>0.775264</td>\n",
       "      <td>0.762086</td>\n",
       "      <td>0.768857</td>\n",
       "      <td>02:20</td>\n",
       "    </tr>\n",
       "    <tr>\n",
       "      <td>4</td>\n",
       "      <td>0.747868</td>\n",
       "      <td>0.611592</td>\n",
       "      <td>0.810680</td>\n",
       "      <td>02:21</td>\n",
       "    </tr>\n",
       "  </tbody>\n",
       "</table>"
      ],
      "text/plain": [
       "<IPython.core.display.HTML object>"
      ]
     },
     "metadata": {},
     "output_type": "display_data"
    }
   ],
   "source": [
    "from fastai.callback.fp16 import *\n",
    "learn = Learner(dls, xresnet18(), loss_func=CrossEntropyLossFlat(), metrics=accuracy).to_fp16()\n",
    "learn.fit_one_cycle(5, 3e-3)\n"
   ]
  },
  {
   "cell_type": "markdown",
   "id": "52f276dc",
   "metadata": {},
   "source": [
    "### Normalisierung\n",
    "+ Das Modell lernt besser, wenn die Werte \"sauber verteilt\" sind:\n",
    "Durchschnitt = 0, Standardabweichung = 1"
   ]
  },
  {
   "cell_type": "markdown",
   "id": "069ba50a",
   "metadata": {},
   "source": [
    "Das bedeutet: Wir berechnen Mittelwert (mean) und Standardabweichung (std) über alle Bilder (außer über die Farbkanäle: Rot, Grün, Blau).\n",
    "\n",
    "+ Wenn du ein Modell weitergibst, solltest du auch die Normalisierungswerte mitliefern.\n",
    "+ Wenn du ein fremdes Modell benutzt, finde raus, welche Werte es benutzt hat!"
   ]
  },
  {
   "cell_type": "code",
   "execution_count": null,
   "id": "0d009ad4",
   "metadata": {},
   "outputs": [
    {
     "data": {
      "text/plain": [
       "(TensorImage([0.4792, 0.4991, 0.4694], device='cuda:0'),\n",
       " TensorImage([0.2466, 0.2396, 0.2567], device='cuda:0'))"
      ]
     },
     "execution_count": 4,
     "metadata": {},
     "output_type": "execute_result"
    }
   ],
   "source": [
    "# Diese Zahlen sind nicht nah an 0 und 1\n",
    "x, y = dls.one_batch()\n",
    "x.mean(dim=[0,2,3]), x.std(dim=[0,2,3])\n"
   ]
  },
  {
   "cell_type": "code",
   "execution_count": null,
   "id": "c377b0c3",
   "metadata": {},
   "outputs": [],
   "source": [
    "def get_dls(bs, size):\n",
    "    dblock = DataBlock(\n",
    "        blocks=(ImageBlock, CategoryBlock),\n",
    "        get_items=get_image_files,\n",
    "        get_y=parent_label,\n",
    "        item_tfms=Resize(224),\n",
    "        batch_tfms=[\n",
    "            *aug_transforms(size=size, min_scale=0.5),\n",
    "            Normalize.from_stats(*imagenet_stats)   # Normalisierung\n",
    "        ])\n",
    "    return dblock.dataloaders(path, bs=bs)\n",
    "\n",
    "\n",
    "dls = get_dls(4, 128)\n"
   ]
  },
  {
   "cell_type": "code",
   "execution_count": 9,
   "id": "2a1bee62",
   "metadata": {},
   "outputs": [
    {
     "data": {
      "text/plain": [
       "(TensorImage([ 0.0151, -0.0655,  0.0232], device='cuda:0'),\n",
       " TensorImage([1.2722, 1.2716, 1.3045], device='cuda:0'))"
      ]
     },
     "execution_count": 9,
     "metadata": {},
     "output_type": "execute_result"
    }
   ],
   "source": [
    "# Werte zwischen 0 und 1\n",
    "x, y = dls.one_batch()\n",
    "x.mean(dim=[0,2,3]), x.std(dim=[0,2,3])"
   ]
  },
  {
   "cell_type": "code",
   "execution_count": 10,
   "id": "b8ca9655",
   "metadata": {},
   "outputs": [
    {
     "name": "stderr",
     "output_type": "stream",
     "text": [
      "/home/lukelo-tshakulongo/Bankoko/φ-σ-Ω/Computer Science/Code/Mulandu/DLConcepts/venv/lib/python3.12/site-packages/fastai/callback/fp16.py:47: FutureWarning: `torch.cuda.amp.autocast(args...)` is deprecated. Please use `torch.amp.autocast('cuda', args...)` instead.\n",
      "  self.autocast,self.learn.scaler,self.scales = autocast(dtype=dtype),GradScaler(**self.kwargs),L()\n",
      "/home/lukelo-tshakulongo/Bankoko/φ-σ-Ω/Computer Science/Code/Mulandu/DLConcepts/venv/lib/python3.12/site-packages/fastai/callback/fp16.py:47: FutureWarning: `torch.cuda.amp.GradScaler(args...)` is deprecated. Please use `torch.amp.GradScaler('cuda', args...)` instead.\n",
      "  self.autocast,self.learn.scaler,self.scales = autocast(dtype=dtype),GradScaler(**self.kwargs),L()\n"
     ]
    },
    {
     "data": {
      "text/html": [
       "\n",
       "<style>\n",
       "    /* Turns off some styling */\n",
       "    progress {\n",
       "        /* gets rid of default border in Firefox and Opera. */\n",
       "        border: none;\n",
       "        /* Needs to be in here for Safari polyfill so background images work as expected. */\n",
       "        background-size: auto;\n",
       "    }\n",
       "    progress:not([value]), progress:not([value])::-webkit-progress-bar {\n",
       "        background: repeating-linear-gradient(45deg, #7e7e7e, #7e7e7e 10px, #5c5c5c 10px, #5c5c5c 20px);\n",
       "    }\n",
       "    .progress-bar-interrupted, .progress-bar-interrupted::-webkit-progress-bar {\n",
       "        background: #F44336;\n",
       "    }\n",
       "</style>\n"
      ],
      "text/plain": [
       "<IPython.core.display.HTML object>"
      ]
     },
     "metadata": {},
     "output_type": "display_data"
    },
    {
     "data": {
      "text/html": [
       "<table border=\"1\" class=\"dataframe\">\n",
       "  <thead>\n",
       "    <tr style=\"text-align: left;\">\n",
       "      <th>epoch</th>\n",
       "      <th>train_loss</th>\n",
       "      <th>valid_loss</th>\n",
       "      <th>accuracy</th>\n",
       "      <th>time</th>\n",
       "    </tr>\n",
       "  </thead>\n",
       "  <tbody>\n",
       "    <tr>\n",
       "      <td>0</td>\n",
       "      <td>1.658547</td>\n",
       "      <td>1.583611</td>\n",
       "      <td>0.498880</td>\n",
       "      <td>02:15</td>\n",
       "    </tr>\n",
       "    <tr>\n",
       "      <td>1</td>\n",
       "      <td>1.327844</td>\n",
       "      <td>1.414874</td>\n",
       "      <td>0.625467</td>\n",
       "      <td>02:12</td>\n",
       "    </tr>\n",
       "    <tr>\n",
       "      <td>2</td>\n",
       "      <td>0.934927</td>\n",
       "      <td>0.772694</td>\n",
       "      <td>0.762509</td>\n",
       "      <td>02:15</td>\n",
       "    </tr>\n",
       "    <tr>\n",
       "      <td>3</td>\n",
       "      <td>0.893581</td>\n",
       "      <td>0.739198</td>\n",
       "      <td>0.780433</td>\n",
       "      <td>02:24</td>\n",
       "    </tr>\n",
       "    <tr>\n",
       "      <td>4</td>\n",
       "      <td>0.679526</td>\n",
       "      <td>0.644652</td>\n",
       "      <td>0.801344</td>\n",
       "      <td>02:22</td>\n",
       "    </tr>\n",
       "  </tbody>\n",
       "</table>"
      ],
      "text/plain": [
       "<IPython.core.display.HTML object>"
      ]
     },
     "metadata": {},
     "output_type": "display_data"
    }
   ],
   "source": [
    "learn = Learner(dls, xresnet18(), loss_func=CrossEntropyLossFlat(), metrics=accuracy).to_fp16()\n",
    "learn.fit_one_cycle(5, 3e-3)"
   ]
  },
  {
   "cell_type": "markdown",
   "id": "bcacab30",
   "metadata": {},
   "source": [
    "### Progressive Resizing\n",
    "+ Starte das Training mit kleinen Bildern → Viel schneller\n",
    "+ Beende das Training mit großen Bildern → Höhere Genauigkeit\n",
    "+ Die Größe der Bilder ist anfangs nicht so wichtig – das Netz erkennt trotzdem Strukturen!"
   ]
  },
  {
   "cell_type": "code",
   "execution_count": null,
   "id": "9c8aace4",
   "metadata": {},
   "outputs": [
    {
     "data": {
      "text/html": [
       "\n",
       "<style>\n",
       "    /* Turns off some styling */\n",
       "    progress {\n",
       "        /* gets rid of default border in Firefox and Opera. */\n",
       "        border: none;\n",
       "        /* Needs to be in here for Safari polyfill so background images work as expected. */\n",
       "        background-size: auto;\n",
       "    }\n",
       "    progress:not([value]), progress:not([value])::-webkit-progress-bar {\n",
       "        background: repeating-linear-gradient(45deg, #7e7e7e, #7e7e7e 10px, #5c5c5c 10px, #5c5c5c 20px);\n",
       "    }\n",
       "    .progress-bar-interrupted, .progress-bar-interrupted::-webkit-progress-bar {\n",
       "        background: #F44336;\n",
       "    }\n",
       "</style>\n"
      ],
      "text/plain": [
       "<IPython.core.display.HTML object>"
      ]
     },
     "metadata": {},
     "output_type": "display_data"
    },
    {
     "data": {
      "text/html": [
       "<table border=\"1\" class=\"dataframe\">\n",
       "  <thead>\n",
       "    <tr style=\"text-align: left;\">\n",
       "      <th>epoch</th>\n",
       "      <th>train_loss</th>\n",
       "      <th>valid_loss</th>\n",
       "      <th>accuracy</th>\n",
       "      <th>time</th>\n",
       "    </tr>\n",
       "  </thead>\n",
       "  <tbody>\n",
       "    <tr>\n",
       "      <td>0</td>\n",
       "      <td>1.732646</td>\n",
       "      <td>1.778171</td>\n",
       "      <td>0.424944</td>\n",
       "      <td>00:26</td>\n",
       "    </tr>\n",
       "    <tr>\n",
       "      <td>1</td>\n",
       "      <td>1.228281</td>\n",
       "      <td>1.441292</td>\n",
       "      <td>0.529500</td>\n",
       "      <td>00:24</td>\n",
       "    </tr>\n",
       "    <tr>\n",
       "      <td>2</td>\n",
       "      <td>0.951116</td>\n",
       "      <td>0.880464</td>\n",
       "      <td>0.715459</td>\n",
       "      <td>00:25</td>\n",
       "    </tr>\n",
       "    <tr>\n",
       "      <td>3</td>\n",
       "      <td>0.769573</td>\n",
       "      <td>0.720444</td>\n",
       "      <td>0.768111</td>\n",
       "      <td>00:25</td>\n",
       "    </tr>\n",
       "    <tr>\n",
       "      <td>4</td>\n",
       "      <td>0.654340</td>\n",
       "      <td>0.621007</td>\n",
       "      <td>0.797237</td>\n",
       "      <td>00:25</td>\n",
       "    </tr>\n",
       "  </tbody>\n",
       "</table>"
      ],
      "text/plain": [
       "<IPython.core.display.HTML object>"
      ]
     },
     "metadata": {},
     "output_type": "display_data"
    }
   ],
   "source": [
    "# Schritt 1: Mit kleinen Bildern anfangen (z. B. 128×128)\n",
    "dls = get_dls(64, 128)\n",
    "learn = Learner(dls, xresnet18(), loss_func=CrossEntropyLossFlat(), metrics=accuracy).to_fp16()\n",
    "learn.fit_one_cycle(5, 3e-3)\n"
   ]
  },
  {
   "cell_type": "code",
   "execution_count": 12,
   "id": "720ae816",
   "metadata": {},
   "outputs": [
    {
     "data": {
      "text/html": [
       "\n",
       "<style>\n",
       "    /* Turns off some styling */\n",
       "    progress {\n",
       "        /* gets rid of default border in Firefox and Opera. */\n",
       "        border: none;\n",
       "        /* Needs to be in here for Safari polyfill so background images work as expected. */\n",
       "        background-size: auto;\n",
       "    }\n",
       "    progress:not([value]), progress:not([value])::-webkit-progress-bar {\n",
       "        background: repeating-linear-gradient(45deg, #7e7e7e, #7e7e7e 10px, #5c5c5c 10px, #5c5c5c 20px);\n",
       "    }\n",
       "    .progress-bar-interrupted, .progress-bar-interrupted::-webkit-progress-bar {\n",
       "        background: #F44336;\n",
       "    }\n",
       "</style>\n"
      ],
      "text/plain": [
       "<IPython.core.display.HTML object>"
      ]
     },
     "metadata": {},
     "output_type": "display_data"
    },
    {
     "data": {
      "text/html": [
       "<table border=\"1\" class=\"dataframe\">\n",
       "  <thead>\n",
       "    <tr style=\"text-align: left;\">\n",
       "      <th>epoch</th>\n",
       "      <th>train_loss</th>\n",
       "      <th>valid_loss</th>\n",
       "      <th>accuracy</th>\n",
       "      <th>time</th>\n",
       "    </tr>\n",
       "  </thead>\n",
       "  <tbody>\n",
       "    <tr>\n",
       "      <td>0</td>\n",
       "      <td>0.679435</td>\n",
       "      <td>1.082562</td>\n",
       "      <td>0.682226</td>\n",
       "      <td>00:34</td>\n",
       "    </tr>\n",
       "  </tbody>\n",
       "</table>"
      ],
      "text/plain": [
       "<IPython.core.display.HTML object>"
      ]
     },
     "metadata": {},
     "output_type": "display_data"
    },
    {
     "data": {
      "text/html": [
       "\n",
       "<style>\n",
       "    /* Turns off some styling */\n",
       "    progress {\n",
       "        /* gets rid of default border in Firefox and Opera. */\n",
       "        border: none;\n",
       "        /* Needs to be in here for Safari polyfill so background images work as expected. */\n",
       "        background-size: auto;\n",
       "    }\n",
       "    progress:not([value]), progress:not([value])::-webkit-progress-bar {\n",
       "        background: repeating-linear-gradient(45deg, #7e7e7e, #7e7e7e 10px, #5c5c5c 10px, #5c5c5c 20px);\n",
       "    }\n",
       "    .progress-bar-interrupted, .progress-bar-interrupted::-webkit-progress-bar {\n",
       "        background: #F44336;\n",
       "    }\n",
       "</style>\n"
      ],
      "text/plain": [
       "<IPython.core.display.HTML object>"
      ]
     },
     "metadata": {},
     "output_type": "display_data"
    },
    {
     "data": {
      "text/html": [
       "<table border=\"1\" class=\"dataframe\">\n",
       "  <thead>\n",
       "    <tr style=\"text-align: left;\">\n",
       "      <th>epoch</th>\n",
       "      <th>train_loss</th>\n",
       "      <th>valid_loss</th>\n",
       "      <th>accuracy</th>\n",
       "      <th>time</th>\n",
       "    </tr>\n",
       "  </thead>\n",
       "  <tbody>\n",
       "    <tr>\n",
       "      <td>0</td>\n",
       "      <td>0.594649</td>\n",
       "      <td>0.808173</td>\n",
       "      <td>0.741598</td>\n",
       "      <td>00:37</td>\n",
       "    </tr>\n",
       "    <tr>\n",
       "      <td>1</td>\n",
       "      <td>0.579121</td>\n",
       "      <td>0.985817</td>\n",
       "      <td>0.703510</td>\n",
       "      <td>00:38</td>\n",
       "    </tr>\n",
       "    <tr>\n",
       "      <td>2</td>\n",
       "      <td>0.515553</td>\n",
       "      <td>0.598878</td>\n",
       "      <td>0.812173</td>\n",
       "      <td>00:41</td>\n",
       "    </tr>\n",
       "    <tr>\n",
       "      <td>3</td>\n",
       "      <td>0.463943</td>\n",
       "      <td>0.610183</td>\n",
       "      <td>0.802091</td>\n",
       "      <td>00:40</td>\n",
       "    </tr>\n",
       "    <tr>\n",
       "      <td>4</td>\n",
       "      <td>0.442395</td>\n",
       "      <td>0.592477</td>\n",
       "      <td>0.812173</td>\n",
       "      <td>00:41</td>\n",
       "    </tr>\n",
       "  </tbody>\n",
       "</table>"
      ],
      "text/plain": [
       "<IPython.core.display.HTML object>"
      ]
     },
     "metadata": {},
     "output_type": "display_data"
    }
   ],
   "source": [
    "# Schritt 2: Bildgröße erhöhen & feinjustieren (z. B. 224×224)\n",
    "# Finale Genauigkeit steigt! Und: Anfangstraining war viel schneller durch die kleinen Bilder.\n",
    "# Wie oft darf man Bildgröße steigern?\n",
    "    # So oft du willst! Z. B. von 128 → 224 → 288 → 320 …\n",
    "\n",
    "learn.dls = get_dls(64, 224)\n",
    "learn.fine_tune(5, 1e-3)"
   ]
  },
  {
   "cell_type": "markdown",
   "id": "b515864e",
   "metadata": {},
   "source": [
    "### Test Time Augmentation\n",
    "Beim Testen oder Validieren mehrere leicht veränderte Versionen eines Bildes erzeugen → Modell mehrfach vorhersagen lassen → Ergebnisse mitteln oder den besten nehmen.\n",
    "\n",
    "Dadurch lernt das Modell allgemeiner, also robuster.\n",
    "Aber: Beim Validieren (also beim Testen, wie gut das Modell ist), nimmt fastai nur den mittleren Teil des Bildes (Center Crop).\n",
    "\n",
    "Stell dir vor:\n",
    "\n",
    "*   Das Bild ist länglich, aber der wichtige Teil (z. B. eine Nase 🐶) ist am Rand\n",
    "\n",
    "*   Durch den mittigen Zuschnitt wird dieser Teil abgeschnitten!\n",
    "\n",
    "\n",
    "Statt nur 1 Zuschnitt beim Testen, nimm z. B. 5 Varianten eines Bildes:\n",
    "\n",
    "*   Andere Ausschnitte (nicht nur Mitte)\n",
    "\n",
    "*  Leichte Drehungen, Helligkeit, Spiegelung usw.\n"
   ]
  },
  {
   "cell_type": "code",
   "execution_count": 13,
   "id": "1f26a733",
   "metadata": {},
   "outputs": [
    {
     "data": {
      "text/html": [
       "\n",
       "<style>\n",
       "    /* Turns off some styling */\n",
       "    progress {\n",
       "        /* gets rid of default border in Firefox and Opera. */\n",
       "        border: none;\n",
       "        /* Needs to be in here for Safari polyfill so background images work as expected. */\n",
       "        background-size: auto;\n",
       "    }\n",
       "    progress:not([value]), progress:not([value])::-webkit-progress-bar {\n",
       "        background: repeating-linear-gradient(45deg, #7e7e7e, #7e7e7e 10px, #5c5c5c 10px, #5c5c5c 20px);\n",
       "    }\n",
       "    .progress-bar-interrupted, .progress-bar-interrupted::-webkit-progress-bar {\n",
       "        background: #F44336;\n",
       "    }\n",
       "</style>\n"
      ],
      "text/plain": [
       "<IPython.core.display.HTML object>"
      ]
     },
     "metadata": {},
     "output_type": "display_data"
    },
    {
     "data": {
      "text/html": [
       "\n",
       "    <div>\n",
       "      <progress value='0' class='' max='5' style='width:300px; height:20px; vertical-align: middle;'></progress>\n",
       "      \n",
       "    </div>\n",
       "    \n"
      ],
      "text/plain": [
       "<IPython.core.display.HTML object>"
      ]
     },
     "metadata": {},
     "output_type": "display_data"
    },
    {
     "data": {
      "text/html": [
       "\n",
       "<style>\n",
       "    /* Turns off some styling */\n",
       "    progress {\n",
       "        /* gets rid of default border in Firefox and Opera. */\n",
       "        border: none;\n",
       "        /* Needs to be in here for Safari polyfill so background images work as expected. */\n",
       "        background-size: auto;\n",
       "    }\n",
       "    progress:not([value]), progress:not([value])::-webkit-progress-bar {\n",
       "        background: repeating-linear-gradient(45deg, #7e7e7e, #7e7e7e 10px, #5c5c5c 10px, #5c5c5c 20px);\n",
       "    }\n",
       "    .progress-bar-interrupted, .progress-bar-interrupted::-webkit-progress-bar {\n",
       "        background: #F44336;\n",
       "    }\n",
       "</style>\n"
      ],
      "text/plain": [
       "<IPython.core.display.HTML object>"
      ]
     },
     "metadata": {},
     "output_type": "display_data"
    },
    {
     "data": {
      "text/html": [],
      "text/plain": [
       "<IPython.core.display.HTML object>"
      ]
     },
     "metadata": {},
     "output_type": "display_data"
    },
    {
     "data": {
      "text/plain": [
       "0.8749066591262817"
      ]
     },
     "execution_count": 13,
     "metadata": {},
     "output_type": "execute_result"
    }
   ],
   "source": [
    "preds, targs = learn.tta()\n",
    "accuracy(preds, targs).item()"
   ]
  },
  {
   "cell_type": "markdown",
   "id": "f03f9f72",
   "metadata": {},
   "source": [
    "### Was ist Mixup?\n",
    "\n",
    "Genauigkeit stark verbessern, besonders wenn du:\n",
    "\n",
    "*   wenig Trainingsdaten hast\n",
    "\n",
    "*   kein vortrainiertes Modell nutzt, das deinem Datensatz ähnlich ist\n",
    "\n",
    "\n",
    "Für jedes Bild im Training:\n",
    "\n",
    "*    Zufällig ein zweites Bild aus dem Datensatz auswählen\n",
    "\n",
    "*    Zufälliges Gewicht t wählen (z. B. 0.3 oder 0.7)\n",
    "\n",
    "*    Erstelle neues Bild = t * Bild1 + (1 - t) * Bild2\n",
    "\n",
    "*    Erstelle neues Label = t * Label1 + (1 - t) * Label2\n"
   ]
  },
  {
   "cell_type": "markdown",
   "id": "ad3a478b",
   "metadata": {},
   "source": [
    "# Mixup in FastAI – Erklärung und Anwendung\n",
    "\n",
    "## 1. Was ist Mixup?\n",
    "\n",
    "**Mixup** ist eine Datenaugmentierungstechnik, bei der zwei Trainingsbeispiele (Bild + Label) linear miteinander vermischt werden.  \n",
    "Das Modell wird dadurch robuster, weil es lernt, mit mehrdeutigen (unsicheren) Situationen umzugehen.\n",
    "\n",
    "---\n",
    "\n",
    "## 2. Pseudocode-Beispiel\n",
    "\n",
    "```python\n",
    "image2, target2 = dataset[random_index]\n",
    "t = random_float(0.5, 1.0)\n",
    "\n",
    "new_image = t * image1 + (1 - t) * image2\n",
    "new_target = t * target1 + (1 - t) * target2\n",
    "```\n",
    "\n",
    "> **Wichtig:** Das funktioniert nur, wenn deine Labels **One-Hot-codiert** sind (z. B. `[0, 0, 1, 0, …]`).\n",
    "\n",
    "---\n",
    "\n",
    "## 3. Visuelles Beispiel\n",
    "\n",
    "Angenommen:\n",
    "\n",
    "- **Bild 1:** Kirche  \n",
    "  → Label = `[0, 0, 1, 0, ..., 0]`\n",
    "\n",
    "- **Bild 2:** Tankstelle  \n",
    "  → Label = `[0, 0, 0, 0, ..., 1]`\n",
    "\n",
    "Wenn wir mit `t = 0.3` mischen:\n",
    "\n",
    "- **Bild =** 30 % Kirche + 70 % Tankstelle  \n",
    "- **Label =** `[0, 0, 0.3, 0, ..., 0.7]`\n",
    "\n",
    "> Das Modell lernt: **\"Dieses Bild ist ein bisschen beides!\"**\n",
    "\n",
    "Ein gemischtes Bild erzeugt eine neue Herausforderung für das Modell – es muss **anteilige Klassen** erkennen.\n",
    "\n",
    "---\n",
    "\n",
    "## 4. Anwendung in FastAI\n",
    "\n",
    "```python\n",
    "learn = Learner(\n",
    "    dls, \n",
    "    xresnet50(), \n",
    "    loss_func=CrossEntropyLossFlat(), \n",
    "    metrics=accuracy, \n",
    "    cbs=Mixup\n",
    ")\n",
    "\n",
    "learn.fit_one_cycle(5, 3e-3)\n",
    "```\n",
    "\n",
    "- Das `cbs=Mixup` aktiviert Mixup als **Callback**, der bei jedem Batch automatisch zwei Bilder und ihre Labels mischt.\n",
    "\n",
    "---\n",
    "\n",
    "## 5. Was passiert beim Training?\n",
    "\n",
    "- Das Modell sieht **gemischte Bilder** anstelle von klaren Einzelbeispielen.\n",
    "- Es lernt, **mehrdeutige Labels** wie `[0.3, 0.7]` zu verstehen.\n",
    "- Dadurch wird das Modell robuster und **vermeidet Overfitting**.\n",
    "- Jedes Bild ist im Grunde **neu erzeugt** – also **mehr Varianz**.\n",
    "\n",
    "---\n",
    "\n",
    "## 6. Vorteile\n",
    "\n",
    "- **Reduziert Overfitting**\n",
    "- **Erhöht Generalisierbarkeit**\n",
    "- **Ideal für lange Trainings** (z. B. > 80 Epochen)\n",
    "- Funktioniert auch bei **Textdaten** oder **Aktivierungen im Modell**\n",
    "\n",
    "---\n",
    "\n",
    "## 7. Nachteile\n",
    "\n",
    "- **Training ist schwieriger**, weil das Modell mehrdeutige Daten lernen muss\n",
    "- **Benötigt mehr Epochen** bis zur Konvergenz\n",
    "- **Labels sind \"verfälscht\"**, ohne dass das Modell es weiß\n",
    "- Die Stärke der Mischung ist zufällig – man hat **wenig Kontrolle**, es sei denn, man passt `t` explizit an\n",
    "\n",
    "---\n",
    "\n",
    "## 8. Mathematischer Vorteil\n",
    "\n",
    "- Klassische Labels sind 0 oder 1  \n",
    "  → Das Modell versucht ständig, mit Softmax diese Werte zu erreichen, was unrealistisch ist\n",
    "\n",
    "- **Mixup-Labels liegen zwischen 0 und 1** (z. B. `0.3` und `0.7`)  \n",
    "  → Dadurch kann das Modell realistischere Wahrscheinlichkeiten lernen und **überschießende Aktivierungen vermeiden**\n",
    "\n",
    "---\n",
    "\n",
    "## 9. Wann Mixup einsetzen?\n",
    "\n",
    "| Trainingsdauer      | Mixup sinnvoll?       |\n",
    "|---------------------|------------------------|\n",
    "| Kurzes Training     | ❌ Nicht hilfreich     |\n",
    "| Langes Training     | ✅ Sehr hilfreich      |\n"
   ]
  },
  {
   "cell_type": "markdown",
   "id": "0a68e1ee",
   "metadata": {},
   "source": [
    "# Was ist Label Smoothing?\n",
    "\n",
    "„Das richtige Label ist 100 % korrekt, alle anderen sind 100 % falsch.“\n",
    "\n",
    "[0, 0, 0, 1, 0, 0, 0, 0, 0, 0]\n",
    "\n",
    "\n",
    "Label Smoothing zeigt seine Wirkung erst bei längeren Trainingsläufen (z. B. 30, 50, 80 Epochen)\n"
   ]
  },
  {
   "cell_type": "code",
   "execution_count": 17,
   "id": "590bd537",
   "metadata": {},
   "outputs": [
    {
     "name": "stderr",
     "output_type": "stream",
     "text": [
      "/home/lukelo-tshakulongo/Bankoko/φ-σ-Ω/Computer Science/Code/Mulandu/DLConcepts/venv/lib/python3.12/site-packages/fastai/callback/fp16.py:47: FutureWarning: `torch.cuda.amp.autocast(args...)` is deprecated. Please use `torch.amp.autocast('cuda', args...)` instead.\n",
      "  self.autocast,self.learn.scaler,self.scales = autocast(dtype=dtype),GradScaler(**self.kwargs),L()\n",
      "/home/lukelo-tshakulongo/Bankoko/φ-σ-Ω/Computer Science/Code/Mulandu/DLConcepts/venv/lib/python3.12/site-packages/fastai/callback/fp16.py:47: FutureWarning: `torch.cuda.amp.GradScaler(args...)` is deprecated. Please use `torch.amp.GradScaler('cuda', args...)` instead.\n",
      "  self.autocast,self.learn.scaler,self.scales = autocast(dtype=dtype),GradScaler(**self.kwargs),L()\n"
     ]
    },
    {
     "data": {
      "text/html": [
       "\n",
       "<style>\n",
       "    /* Turns off some styling */\n",
       "    progress {\n",
       "        /* gets rid of default border in Firefox and Opera. */\n",
       "        border: none;\n",
       "        /* Needs to be in here for Safari polyfill so background images work as expected. */\n",
       "        background-size: auto;\n",
       "    }\n",
       "    progress:not([value]), progress:not([value])::-webkit-progress-bar {\n",
       "        background: repeating-linear-gradient(45deg, #7e7e7e, #7e7e7e 10px, #5c5c5c 10px, #5c5c5c 20px);\n",
       "    }\n",
       "    .progress-bar-interrupted, .progress-bar-interrupted::-webkit-progress-bar {\n",
       "        background: #F44336;\n",
       "    }\n",
       "</style>\n"
      ],
      "text/plain": [
       "<IPython.core.display.HTML object>"
      ]
     },
     "metadata": {},
     "output_type": "display_data"
    },
    {
     "data": {
      "text/html": [
       "<table border=\"1\" class=\"dataframe\">\n",
       "  <thead>\n",
       "    <tr style=\"text-align: left;\">\n",
       "      <th>epoch</th>\n",
       "      <th>train_loss</th>\n",
       "      <th>valid_loss</th>\n",
       "      <th>accuracy</th>\n",
       "      <th>time</th>\n",
       "    </tr>\n",
       "  </thead>\n",
       "  <tbody>\n",
       "    <tr>\n",
       "      <td>0</td>\n",
       "      <td>2.516923</td>\n",
       "      <td>2.550240</td>\n",
       "      <td>0.479089</td>\n",
       "      <td>00:26</td>\n",
       "    </tr>\n",
       "    <tr>\n",
       "      <td>1</td>\n",
       "      <td>2.054281</td>\n",
       "      <td>2.104333</td>\n",
       "      <td>0.613518</td>\n",
       "      <td>00:29</td>\n",
       "    </tr>\n",
       "    <tr>\n",
       "      <td>2</td>\n",
       "      <td>1.846828</td>\n",
       "      <td>1.971688</td>\n",
       "      <td>0.670276</td>\n",
       "      <td>00:28</td>\n",
       "    </tr>\n",
       "    <tr>\n",
       "      <td>3</td>\n",
       "      <td>1.693976</td>\n",
       "      <td>1.610719</td>\n",
       "      <td>0.804705</td>\n",
       "      <td>00:28</td>\n",
       "    </tr>\n",
       "    <tr>\n",
       "      <td>4</td>\n",
       "      <td>1.592195</td>\n",
       "      <td>1.562520</td>\n",
       "      <td>0.815534</td>\n",
       "      <td>00:27</td>\n",
       "    </tr>\n",
       "  </tbody>\n",
       "</table>"
      ],
      "text/plain": [
       "<IPython.core.display.HTML object>"
      ]
     },
     "metadata": {},
     "output_type": "display_data"
    }
   ],
   "source": [
    "# Das ist alles – du brauchst nur eine andere Loss-Funktion!\n",
    "dls = get_dls(64, 128)\n",
    "\n",
    "\n",
    "learn = Learner(dls, xresnet18(), \n",
    "                loss_func=LabelSmoothingCrossEntropy(),  # Hier\n",
    "                metrics=accuracy).to_fp16()\n",
    "\n",
    "learn.fit_one_cycle(5, 3e-3)\n"
   ]
  },
  {
   "cell_type": "markdown",
   "id": "1635b922",
   "metadata": {},
   "source": [
    "## Problem: Zu viel Sicherheit beim Lernen\n",
    "\n",
    "Wenn wir ein Modell klassisch trainieren, versucht es:\n",
    "\n",
    "- Für das **korrekte Label**: Ausgabe = `1`\n",
    "- Für **alle anderen Klassen**: Ausgabe = `0`\n",
    "\n",
    "### Aber in der Realität:\n",
    "\n",
    "- **Softmax/Sigmoid** können **niemals exakt** `1` oder `0` zurückgeben.\n",
    "- Das Modell versucht dennoch, diese Extreme zu erreichen (z. B. `0.9999`).\n",
    "- Das führt zu:\n",
    "\n",
    "  - Overfitting\n",
    "  - Übertriebene Selbstsicherheit\n",
    "  - Schlechte Generalisierung beim Testen\n",
    "\n",
    "---\n",
    "\n",
    "## Beispiel: Fehlerhafte Labels\n",
    "\n",
    "Einige Bilder im Datensatz könnten **falsch beschriftet** sein, z. B.:\n",
    "\n",
    "- Ein Bild zeigt zwei Tierarten\n",
    "- Das Label ist schlicht falsch\n",
    "\n",
    "Wenn du das Modell zwingst, immer \"1 oder 0\" zu lernen, wird es bei solchen Fehlern verwirrt.\n",
    "\n",
    "---\n",
    "\n",
    "## Lösung: Label Smoothing\n",
    "\n",
    "Statt:\n",
    "\n",
    "```\n",
    "[0, 0, 0, 1, 0, 0, 0, 0, 0, 0]\n",
    "```\n",
    "\n",
    "nutzen wir z. B.:\n",
    "\n",
    "```\n",
    "[0.01, 0.01, 0.01, 0.91, 0.01, 0.01, 0.01, 0.01, 0.01, 0.01]\n",
    "```\n",
    "\n",
    "Das sagt dem Modell:\n",
    "\n",
    "> „Ich bin zu 91 % sicher, dass es Klasse 3 ist – aber nicht absolut sicher.“\n",
    "\n",
    "### Das bringt:\n",
    "\n",
    "- Robusteres Modell\n",
    "- Bessere Generalisierung\n",
    "- Weniger anfällig für fehlerhafte Daten\n",
    "\n",
    "---\n",
    "\n",
    "## Technische Erklärung\n",
    "\n",
    "Angenommen:\n",
    "\n",
    "- Anzahl der Klassen `N = 10`\n",
    "- Unsicherheitsfaktor `ε = 0.1`\n",
    "\n",
    "Dann:\n",
    "\n",
    "- Jeder \"falsche\" Wert: `ε / N = 0.01`\n",
    "- Der \"richtige\" Wert: `1 - ε + (ε / N) = 0.91`\n",
    "\n",
    "> Die Summe der Werte bleibt **exakt 1** – mathematisch korrekt\n",
    "\n",
    "---\n",
    "\n",
    "## Erkenntnisse aus dem Google-Paper (Szegedy et al.)\n",
    "\n",
    "1. **Zielwert 1 ist nicht erreichbar**\n",
    "\n",
    "   - Softmax erreicht nie exakt `1`\n",
    "   - Trotzdem wird das Modell dahin „gepusht“ → führt zu extremen Ausgaben\n",
    "\n",
    "2. **Übermäßige Sicherheit schadet**\n",
    "\n",
    "   - Modell glaubt zu stark an sich selbst → Generalisiert schlechter\n",
    "\n",
    "3. **Unflexible Gradienten**\n",
    "\n",
    "   - Die Differenz zwischen der \"wichtigsten Klasse\" und den anderen ist zu groß\n",
    "   - Dadurch werden Gradienten für kleinere Klassen zu klein\n",
    "   - → Schwache Anpassung bei Transfer Learning\n"
   ]
  },
  {
   "cell_type": "code",
   "execution_count": null,
   "id": "3a579691",
   "metadata": {},
   "outputs": [],
   "source": []
  }
 ],
 "metadata": {
  "kernelspec": {
   "display_name": "venv",
   "language": "python",
   "name": "python3"
  },
  "language_info": {
   "codemirror_mode": {
    "name": "ipython",
    "version": 3
   },
   "file_extension": ".py",
   "mimetype": "text/x-python",
   "name": "python",
   "nbconvert_exporter": "python",
   "pygments_lexer": "ipython3",
   "version": "3.12.3"
  }
 },
 "nbformat": 4,
 "nbformat_minor": 5
}
