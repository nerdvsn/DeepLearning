{
 "cells": [
  {
   "cell_type": "code",
   "execution_count": 1,
   "id": "0d815784",
   "metadata": {},
   "outputs": [
    {
     "name": "stdout",
     "output_type": "stream",
     "text": [
      "Torch-Version: 2.6.0\n",
      "MPS verfügbar: True\n",
      "MPS eingebaut: True\n",
      "Standardgerät: cpu\n"
     ]
    }
   ],
   "source": [
    "import torch\n",
    "\n",
    "print(\"Torch-Version:\", torch.__version__)\n",
    "print(\"MPS verfügbar:\", torch.backends.mps.is_available())\n",
    "print(\"MPS eingebaut:\", torch.backends.mps.is_built())\n",
    "print(\"Standardgerät:\", torch.device('cuda' if torch.cuda.is_available() else 'cpu'))\n"
   ]
  },
  {
   "cell_type": "code",
   "execution_count": null,
   "id": "18cee546",
   "metadata": {},
   "outputs": [],
   "source": []
  }
 ],
 "metadata": {
  "kernelspec": {
   "display_name": "Python 3 (ipykernel)",
   "language": "python",
   "name": "python3"
  },
  "language_info": {
   "codemirror_mode": {
    "name": "ipython",
    "version": 3
   },
   "file_extension": ".py",
   "mimetype": "text/x-python",
   "name": "python",
   "nbconvert_exporter": "python",
   "pygments_lexer": "ipython3",
   "version": "3.10.16"
  }
 },
 "nbformat": 4,
 "nbformat_minor": 5
}
