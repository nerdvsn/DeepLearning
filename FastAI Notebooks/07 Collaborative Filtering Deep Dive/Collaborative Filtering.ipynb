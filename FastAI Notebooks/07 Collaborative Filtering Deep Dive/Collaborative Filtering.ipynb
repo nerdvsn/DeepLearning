{
 "cells": [
  {
   "cell_type": "code",
   "execution_count": 9,
   "id": "47ae0393",
   "metadata": {},
   "outputs": [],
   "source": [
    "from fastai.collab import *\n",
    "from fastai.tabular.all import *\n",
    "from fastai.data.external import untar_data, URLs"
   ]
  },
  {
   "cell_type": "code",
   "execution_count": 13,
   "id": "63abeb0f",
   "metadata": {},
   "outputs": [
    {
     "data": {
      "text/html": [
       "\n",
       "<style>\n",
       "    /* Turns off some styling */\n",
       "    progress {\n",
       "        /* gets rid of default border in Firefox and Opera. */\n",
       "        border: none;\n",
       "        /* Needs to be in here for Safari polyfill so background images work as expected. */\n",
       "        background-size: auto;\n",
       "    }\n",
       "    progress:not([value]), progress:not([value])::-webkit-progress-bar {\n",
       "        background: repeating-linear-gradient(45deg, #7e7e7e, #7e7e7e 10px, #5c5c5c 10px, #5c5c5c 20px);\n",
       "    }\n",
       "    .progress-bar-interrupted, .progress-bar-interrupted::-webkit-progress-bar {\n",
       "        background: #F44336;\n",
       "    }\n",
       "</style>\n"
      ],
      "text/plain": [
       "<IPython.core.display.HTML object>"
      ]
     },
     "metadata": {},
     "output_type": "display_data"
    },
    {
     "data": {
      "text/html": [
       "\n",
       "    <div>\n",
       "      <progress value='4931584' class='' max='4924029' style='width:300px; height:20px; vertical-align: middle;'></progress>\n",
       "      100.15% [4931584/4924029 00:02&lt;00:00]\n",
       "    </div>\n",
       "    "
      ],
      "text/plain": [
       "<IPython.core.display.HTML object>"
      ]
     },
     "metadata": {},
     "output_type": "display_data"
    }
   ],
   "source": [
    "set_seed(42)\n",
    "path = untar_data(URLs.ML_100k)"
   ]
  },
  {
   "cell_type": "code",
   "execution_count": 14,
   "id": "88c5f6cf",
   "metadata": {},
   "outputs": [
    {
     "data": {
      "text/html": [
       "<div>\n",
       "<style scoped>\n",
       "    .dataframe tbody tr th:only-of-type {\n",
       "        vertical-align: middle;\n",
       "    }\n",
       "\n",
       "    .dataframe tbody tr th {\n",
       "        vertical-align: top;\n",
       "    }\n",
       "\n",
       "    .dataframe thead th {\n",
       "        text-align: right;\n",
       "    }\n",
       "</style>\n",
       "<table border=\"1\" class=\"dataframe\">\n",
       "  <thead>\n",
       "    <tr style=\"text-align: right;\">\n",
       "      <th></th>\n",
       "      <th>user</th>\n",
       "      <th>movie</th>\n",
       "      <th>rating</th>\n",
       "      <th>timestamp</th>\n",
       "    </tr>\n",
       "  </thead>\n",
       "  <tbody>\n",
       "    <tr>\n",
       "      <th>0</th>\n",
       "      <td>196</td>\n",
       "      <td>242</td>\n",
       "      <td>3</td>\n",
       "      <td>881250949</td>\n",
       "    </tr>\n",
       "    <tr>\n",
       "      <th>1</th>\n",
       "      <td>186</td>\n",
       "      <td>302</td>\n",
       "      <td>3</td>\n",
       "      <td>891717742</td>\n",
       "    </tr>\n",
       "    <tr>\n",
       "      <th>2</th>\n",
       "      <td>22</td>\n",
       "      <td>377</td>\n",
       "      <td>1</td>\n",
       "      <td>878887116</td>\n",
       "    </tr>\n",
       "    <tr>\n",
       "      <th>3</th>\n",
       "      <td>244</td>\n",
       "      <td>51</td>\n",
       "      <td>2</td>\n",
       "      <td>880606923</td>\n",
       "    </tr>\n",
       "    <tr>\n",
       "      <th>4</th>\n",
       "      <td>166</td>\n",
       "      <td>346</td>\n",
       "      <td>1</td>\n",
       "      <td>886397596</td>\n",
       "    </tr>\n",
       "  </tbody>\n",
       "</table>\n",
       "</div>"
      ],
      "text/plain": [
       "   user  movie  rating  timestamp\n",
       "0   196    242       3  881250949\n",
       "1   186    302       3  891717742\n",
       "2    22    377       1  878887116\n",
       "3   244     51       2  880606923\n",
       "4   166    346       1  886397596"
      ]
     },
     "execution_count": 14,
     "metadata": {},
     "output_type": "execute_result"
    }
   ],
   "source": [
    "ratings = pd.read_csv(path/'u.data', delimiter='\\t', header=None,\n",
    "                     names=['user', 'movie', 'rating', 'timestamp'])\n",
    "\n",
    "\n",
    "ratings.head()"
   ]
  },
  {
   "cell_type": "markdown",
   "id": "6f50a0d3",
   "metadata": {},
   "source": [
    "Die leeren Zellen in dieser Tabelle sind genau das, was unser Modell vorhersagen soll"
   ]
  },
  {
   "cell_type": "markdown",
   "id": "6bfd6c13",
   "metadata": {},
   "source": [
    "### Wie Funktioniert die Vorharsage?\n",
    "Stell dir vor, wir wüssten über jeden Nutzer, wie sehr er auf verschiedene Kategorien wie Genre, Alter des Films, bevorzugte Schauspieler oder Regisseure steht. Und wir wüssten dasselbe über die Filme. Dann könnten wir einfach diese Eigenschaften miteinander multiplizieren und wüssten, wie gut ein Film zu einem Nutzer passt.\n",
    "\n",
    "Wichtig: Auch wenn wir diese Faktoren nicht explizit kennen, nehmen wir an, dass es unsichtbare (latente) Faktoren gibt, die genau diese Vorlieben repräsentieren.\n",
    "\n",
    "Beispiel:"
   ]
  },
  {
   "cell_type": "code",
   "execution_count": 19,
   "id": "69ddd962",
   "metadata": {},
   "outputs": [
    {
     "name": "stdout",
     "output_type": "stream",
     "text": [
      "Casablance result is: -1.611\n",
      "Last Skywalker result is: 2.1420000000000003\n"
     ]
    }
   ],
   "source": [
    "# Latente Faktoren eines Films (Sci-Fi, Action, Alt)\n",
    "last_skywalker = np.array([0.98, 0.9, -0.9])\n",
    "\n",
    "# Latente Faktoren eines klassischen Films\n",
    "casablanca = np.array([-0.99, -0.3, 0.8])\n",
    "\n",
    "# Latente Vorlieben eines Nutzers für diese Eigenschaften\n",
    "user1 = np.array([0.9, 0.8, -0.6])\n",
    "\n",
    "# relevanz berechnen  (Skalarprodukt (engl. dot product))\n",
    "last_skywalker_result = (user1 * last_skywalker).sum()\n",
    "\n",
    "casablanca_result = (user1 * casablanca).sum()\n",
    "\n",
    "print(f\"Casablance result is: {casablanca_result}\")\n",
    "print(f\"Last Skywalker result is: {last_skywalker_result}\")\n"
   ]
  },
  {
   "cell_type": "markdown",
   "id": "ef789e7c",
   "metadata": {},
   "source": [
    "### Wichtiger Punkt:\n",
    "\n",
    "Da wir nicht wissen, was genau die latenten Faktoren sind, und auch nicht, wie man sie für jeden Nutzer und Film bewertet, müssen wir sie lernen.\n",
    "Das ist die Aufgabe unseres Machine-Learning-Modells."
   ]
  },
  {
   "cell_type": "markdown",
   "id": "24112456",
   "metadata": {},
   "source": [
    "## Learning the Latent Factors"
   ]
  },
  {
   "cell_type": "markdown",
   "id": "a91de97d",
   "metadata": {},
   "source": [
    "### Schritt 1: Parameter zufällig initialisieren\n",
    "Wir starten mit zufälligen Werten – und zwar für:\n",
    "\n",
    "* jeden Nutzer (User)\n",
    "\n",
    "* jeden Film (Movie)\n",
    "\n",
    "Diese zufälligen Werte sind latente Faktoren. Für jedes Nutzer-Film-Paar lernen wir diese versteckten Eigenschaften, z. B.:\n",
    "\n",
    "* Wie sehr ein Nutzer Actionfilme mag\n",
    "\n",
    "* Wie viel Action ein bestimmter Film hat\n",
    "\n"
   ]
  },
  {
   "cell_type": "markdown",
   "id": "a642842c",
   "metadata": {},
   "source": [
    "Beispiel:\n",
    "Wir sagen, wir verwenden 5 latente Faktoren (könnte auch mehr oder weniger sein). Dann bekommt jeder Nutzer einen Vektor mit 5 Zahlen, ebenso jeder Film."
   ]
  },
  {
   "cell_type": "markdown",
   "id": "915e396b",
   "metadata": {},
   "source": [
    "### Schritt 2: Vorhersagen berechnen\n",
    "Die Vorhersage der Bewertung erfolgt durch das Skalarprodukt (Dot Product) der Nutzer- und Filmvektoren:\n",
    "\n",
    "\n",
    "Code: \n",
    "* predicted_rating = np.dot(user_vector, movie_vector)\n",
    "\n",
    "Beispiel:\n",
    "* User1 liebt Action (Faktor1 = 0.9)\n",
    "\n",
    "* MovieA hat viel Action (Faktor1 = 0.8)\n",
    "→ Produkt = 0.9 × 0.8 = hoch ⇒ starke Übereinstimmung\n",
    "\n",
    "* Umgekehrt: Wenn User1 Action nicht mag (Faktor1 = –0.9), aber der Film viel Action hat (+0.8) ⇒ Produkt = –0.72 ⇒ niedrige Bewertung\n",
    "\n"
   ]
  },
  {
   "cell_type": "markdown",
   "id": "83c9703f",
   "metadata": {},
   "source": [
    "### Schritt 3: Verlust berechnen (Loss)\n",
    "Jetzt vergleichen wir unsere Vorhersagen mit den echten Bewertungen der Nutzer (z. B. 4 von 5 Sternen).\n",
    "\n",
    "Wir verwenden dafür z. B. MSE (Mean Squared Error):\n",
    "\n",
    "* loss = (true_rating - predicted_rating) ** 2"
   ]
  },
  {
   "cell_type": "markdown",
   "id": "e01a80e4",
   "metadata": {},
   "source": [
    "### Schritt 4: Optimieren mit SGD\n",
    "Jetzt wenden wir Stochastic Gradient Descent (SGD) an:\n",
    "\n",
    "Für jedes Nutzer-Film-Paar:\n",
    "\n",
    "* Vorhersage berechnen\n",
    "\n",
    "* Fehler ableiten (Gradient)\n",
    "\n",
    "* Gewichte anpassen (latent factors updaten)\n",
    "\n",
    "* Schrittweite = Lernrate\n",
    "\n",
    "Wiederholen wir das viele Male, verbessern sich:\n",
    "\n",
    "* der Loss\n",
    "\n",
    "* die Vorhersagen\n",
    "\n",
    "* unsere Empfehlungen 🎯\n",
    "\n"
   ]
  },
  {
   "cell_type": "markdown",
   "id": "f7cc8a37",
   "metadata": {},
   "source": [
    "### Creating the DataLoaders"
   ]
  },
  {
   "cell_type": "code",
   "execution_count": 20,
   "id": "84f573b1",
   "metadata": {},
   "outputs": [
    {
     "data": {
      "text/html": [
       "<div>\n",
       "<style scoped>\n",
       "    .dataframe tbody tr th:only-of-type {\n",
       "        vertical-align: middle;\n",
       "    }\n",
       "\n",
       "    .dataframe tbody tr th {\n",
       "        vertical-align: top;\n",
       "    }\n",
       "\n",
       "    .dataframe thead th {\n",
       "        text-align: right;\n",
       "    }\n",
       "</style>\n",
       "<table border=\"1\" class=\"dataframe\">\n",
       "  <thead>\n",
       "    <tr style=\"text-align: right;\">\n",
       "      <th></th>\n",
       "      <th>movie</th>\n",
       "      <th>title</th>\n",
       "    </tr>\n",
       "  </thead>\n",
       "  <tbody>\n",
       "    <tr>\n",
       "      <th>0</th>\n",
       "      <td>1</td>\n",
       "      <td>Toy Story (1995)</td>\n",
       "    </tr>\n",
       "    <tr>\n",
       "      <th>1</th>\n",
       "      <td>2</td>\n",
       "      <td>GoldenEye (1995)</td>\n",
       "    </tr>\n",
       "    <tr>\n",
       "      <th>2</th>\n",
       "      <td>3</td>\n",
       "      <td>Four Rooms (1995)</td>\n",
       "    </tr>\n",
       "    <tr>\n",
       "      <th>3</th>\n",
       "      <td>4</td>\n",
       "      <td>Get Shorty (1995)</td>\n",
       "    </tr>\n",
       "    <tr>\n",
       "      <th>4</th>\n",
       "      <td>5</td>\n",
       "      <td>Copycat (1995)</td>\n",
       "    </tr>\n",
       "  </tbody>\n",
       "</table>\n",
       "</div>"
      ],
      "text/plain": [
       "   movie              title\n",
       "0      1   Toy Story (1995)\n",
       "1      2   GoldenEye (1995)\n",
       "2      3  Four Rooms (1995)\n",
       "3      4  Get Shorty (1995)\n",
       "4      5     Copycat (1995)"
      ]
     },
     "execution_count": 20,
     "metadata": {},
     "output_type": "execute_result"
    }
   ],
   "source": [
    "movies = pd.read_csv(path/'u.item', delimiter='|', encoding='latin-1',\n",
    "                     usecols=(0,1), names=('movie','title'), header=None)\n",
    "\n",
    "movies.head()"
   ]
  },
  {
   "cell_type": "code",
   "execution_count": 21,
   "id": "2b22de9b",
   "metadata": {},
   "outputs": [],
   "source": [
    "ratings = ratings.merge(movies) # Das führt automatisch einen Inner Join auf der gemeinsamen Spalte movie durch."
   ]
  },
  {
   "cell_type": "code",
   "execution_count": 22,
   "id": "485adf2e",
   "metadata": {},
   "outputs": [
    {
     "data": {
      "text/html": [
       "<div>\n",
       "<style scoped>\n",
       "    .dataframe tbody tr th:only-of-type {\n",
       "        vertical-align: middle;\n",
       "    }\n",
       "\n",
       "    .dataframe tbody tr th {\n",
       "        vertical-align: top;\n",
       "    }\n",
       "\n",
       "    .dataframe thead th {\n",
       "        text-align: right;\n",
       "    }\n",
       "</style>\n",
       "<table border=\"1\" class=\"dataframe\">\n",
       "  <thead>\n",
       "    <tr style=\"text-align: right;\">\n",
       "      <th></th>\n",
       "      <th>user</th>\n",
       "      <th>movie</th>\n",
       "      <th>rating</th>\n",
       "      <th>timestamp</th>\n",
       "      <th>title</th>\n",
       "    </tr>\n",
       "  </thead>\n",
       "  <tbody>\n",
       "    <tr>\n",
       "      <th>0</th>\n",
       "      <td>196</td>\n",
       "      <td>242</td>\n",
       "      <td>3</td>\n",
       "      <td>881250949</td>\n",
       "      <td>Kolya (1996)</td>\n",
       "    </tr>\n",
       "    <tr>\n",
       "      <th>1</th>\n",
       "      <td>186</td>\n",
       "      <td>302</td>\n",
       "      <td>3</td>\n",
       "      <td>891717742</td>\n",
       "      <td>L.A. Confidential (1997)</td>\n",
       "    </tr>\n",
       "    <tr>\n",
       "      <th>2</th>\n",
       "      <td>22</td>\n",
       "      <td>377</td>\n",
       "      <td>1</td>\n",
       "      <td>878887116</td>\n",
       "      <td>Heavyweights (1994)</td>\n",
       "    </tr>\n",
       "    <tr>\n",
       "      <th>3</th>\n",
       "      <td>244</td>\n",
       "      <td>51</td>\n",
       "      <td>2</td>\n",
       "      <td>880606923</td>\n",
       "      <td>Legends of the Fall (1994)</td>\n",
       "    </tr>\n",
       "    <tr>\n",
       "      <th>4</th>\n",
       "      <td>166</td>\n",
       "      <td>346</td>\n",
       "      <td>1</td>\n",
       "      <td>886397596</td>\n",
       "      <td>Jackie Brown (1997)</td>\n",
       "    </tr>\n",
       "  </tbody>\n",
       "</table>\n",
       "</div>"
      ],
      "text/plain": [
       "   user  movie  rating  timestamp                       title\n",
       "0   196    242       3  881250949                Kolya (1996)\n",
       "1   186    302       3  891717742    L.A. Confidential (1997)\n",
       "2    22    377       1  878887116         Heavyweights (1994)\n",
       "3   244     51       2  880606923  Legends of the Fall (1994)\n",
       "4   166    346       1  886397596         Jackie Brown (1997)"
      ]
     },
     "execution_count": 22,
     "metadata": {},
     "output_type": "execute_result"
    }
   ],
   "source": [
    "ratings.head()"
   ]
  },
  {
   "cell_type": "code",
   "execution_count": 24,
   "id": "bfc6ed78",
   "metadata": {},
   "outputs": [
    {
     "data": {
      "text/html": [
       "<table border=\"1\" class=\"dataframe\">\n",
       "  <thead>\n",
       "    <tr style=\"text-align: right;\">\n",
       "      <th></th>\n",
       "      <th>user</th>\n",
       "      <th>title</th>\n",
       "      <th>rating</th>\n",
       "    </tr>\n",
       "  </thead>\n",
       "  <tbody>\n",
       "    <tr>\n",
       "      <th>0</th>\n",
       "      <td>782</td>\n",
       "      <td>Starship Troopers (1997)</td>\n",
       "      <td>2</td>\n",
       "    </tr>\n",
       "    <tr>\n",
       "      <th>1</th>\n",
       "      <td>943</td>\n",
       "      <td>Judge Dredd (1995)</td>\n",
       "      <td>3</td>\n",
       "    </tr>\n",
       "    <tr>\n",
       "      <th>2</th>\n",
       "      <td>758</td>\n",
       "      <td>Mission: Impossible (1996)</td>\n",
       "      <td>4</td>\n",
       "    </tr>\n",
       "    <tr>\n",
       "      <th>3</th>\n",
       "      <td>94</td>\n",
       "      <td>Farewell My Concubine (1993)</td>\n",
       "      <td>5</td>\n",
       "    </tr>\n",
       "    <tr>\n",
       "      <th>4</th>\n",
       "      <td>23</td>\n",
       "      <td>Psycho (1960)</td>\n",
       "      <td>4</td>\n",
       "    </tr>\n",
       "    <tr>\n",
       "      <th>5</th>\n",
       "      <td>296</td>\n",
       "      <td>Secrets &amp; Lies (1996)</td>\n",
       "      <td>5</td>\n",
       "    </tr>\n",
       "    <tr>\n",
       "      <th>6</th>\n",
       "      <td>940</td>\n",
       "      <td>American President, The (1995)</td>\n",
       "      <td>4</td>\n",
       "    </tr>\n",
       "    <tr>\n",
       "      <th>7</th>\n",
       "      <td>334</td>\n",
       "      <td>Star Trek VI: The Undiscovered Country (1991)</td>\n",
       "      <td>1</td>\n",
       "    </tr>\n",
       "    <tr>\n",
       "      <th>8</th>\n",
       "      <td>380</td>\n",
       "      <td>Braveheart (1995)</td>\n",
       "      <td>4</td>\n",
       "    </tr>\n",
       "    <tr>\n",
       "      <th>9</th>\n",
       "      <td>690</td>\n",
       "      <td>So I Married an Axe Murderer (1993)</td>\n",
       "      <td>1</td>\n",
       "    </tr>\n",
       "  </tbody>\n",
       "</table>"
      ],
      "text/plain": [
       "<IPython.core.display.HTML object>"
      ]
     },
     "metadata": {},
     "output_type": "display_data"
    }
   ],
   "source": [
    "dls = CollabDataLoaders.from_df(ratings, item_name='title', bs=64)\n",
    "dls.show_batch()"
   ]
  },
  {
   "cell_type": "code",
   "execution_count": 26,
   "id": "57380486",
   "metadata": {},
   "outputs": [],
   "source": [
    "# dls.classes"
   ]
  },
  {
   "cell_type": "markdown",
   "id": "c5f50583",
   "metadata": {},
   "source": [
    "### Mathematisches Modell: Latente Faktoren als Matrizen"
   ]
  },
  {
   "cell_type": "code",
   "execution_count": 27,
   "id": "56ac1a4a",
   "metadata": {},
   "outputs": [],
   "source": [
    "n_users = len(dls.classes['user'])\n",
    "n_movies = len(dls.classes['title'])\n",
    "n_factors = 5"
   ]
  },
  {
   "cell_type": "markdown",
   "id": "43490fdd",
   "metadata": {},
   "source": [
    "Jeder Nutzer und jeder Film erhält einen Vektor mit 5 Werten. Diese Vektoren (Faktoren) beschreiben z. B. Genre, Filmstil, Alter, Dialogtiefe usw."
   ]
  },
  {
   "cell_type": "code",
   "execution_count": 29,
   "id": "52671cc4",
   "metadata": {},
   "outputs": [],
   "source": [
    "user_factors = torch.randn(n_users, n_factors)\n",
    "movie_factors = torch.randn(n_movies, n_factors)"
   ]
  },
  {
   "cell_type": "code",
   "execution_count": 35,
   "id": "67703c22",
   "metadata": {},
   "outputs": [
    {
     "name": "stdout",
     "output_type": "stream",
     "text": [
      "User factor shape torch.Size([944, 5])\n",
      "Movie factor shape torch.Size([1665, 5])\n"
     ]
    }
   ],
   "source": [
    "print(f\"User factor shape {user_factors.shape}\")\n",
    "print(f\"Movie factor shape {movie_factors.shape}\")"
   ]
  },
  {
   "cell_type": "code",
   "execution_count": 36,
   "id": "00c33f2e",
   "metadata": {},
   "outputs": [
    {
     "data": {
      "text/plain": [
       "tensor([[-1.0827,  0.2138,  0.9310, -0.2739, -0.4359],\n",
       "        [-0.5195,  0.7613, -0.4365,  0.1365,  1.3300],\n",
       "        [-1.2804,  0.0705,  0.6489, -1.2110,  1.8266],\n",
       "        ...,\n",
       "        [ 0.8009, -0.4734, -0.8962, -0.7348, -0.0246],\n",
       "        [ 0.3354, -0.8262, -0.1541,  0.4699,  0.4873],\n",
       "        [ 2.4054, -0.2156, -1.4126, -0.2467,  1.0571]])"
      ]
     },
     "execution_count": 36,
     "metadata": {},
     "output_type": "execute_result"
    }
   ],
   "source": [
    "user_factors"
   ]
  },
  {
   "cell_type": "code",
   "execution_count": 41,
   "id": "79185483",
   "metadata": {},
   "outputs": [
    {
     "data": {
      "text/plain": [
       "torch.Size([944])"
      ]
     },
     "execution_count": 41,
     "metadata": {},
     "output_type": "execute_result"
    }
   ],
   "source": [
    "user_factors[:, 0].shape # Alles in die erste Spalte"
   ]
  },
  {
   "cell_type": "markdown",
   "id": "5f9e3aa5",
   "metadata": {},
   "source": [
    "Statt One-Hot-Vektoren zu verwenden (was ineffizient ist), nutzt PyTorch nn.Embedding – ein Layer, der effizient in solche Matrizen „indiziert“:\n",
    "\n",
    "\n",
    "* embedding = nn.Embedding(num_embeddings=n_users, embedding_dim=n_factors)\n",
    "\n",
    "Wenn du embedding(3) aufrufst, bekommst du direkt den Vektor für Nutzer Nr. 3 – genau so, als würdest du das Skalarprodukt mit einem One-Hot-Vektor machen, aber viel effizienter.\n",
    "\n",
    "Das nennt man Embedding:\n",
    "Das Produkt aus One-Hot und Embedding-Matrix – effizient als Indexierung umgesetzt"
   ]
  },
  {
   "cell_type": "markdown",
   "id": "6d341eaf",
   "metadata": {},
   "source": [
    "### Was passiert, wenn wir mehr oder weniger als 5 Dimensionen wählen?\n",
    "Das ist die Anzahl der latenten Faktoren – also, wie viele „unsichtbare Eigenschaften“ ein User oder Film haben darf.\n",
    "\n",
    "#### Weniger Dimensionen (z. B. 2 oder 3):\n",
    "\n",
    "* Weniger Kapazität → kann nur wenige Unterschiede zwischen Nutzern und Filmen erfassen.\n",
    "\n",
    "* Schnelleres Training, aber unterfittet oft.\n",
    "\n",
    "#### Mehr Dimensionen (z. B. 10, 20 oder 100):\n",
    "\n",
    "* Höhere Kapazität → kann komplexere Vorlieben und Inhalte erfassen.\n",
    "\n",
    "* Höheres Risiko von Overfitting, langsameres Training.\n",
    "\n",
    "#### Tradeoff:\n",
    "\n",
    "* Wenig Dimensionen = einfacher, schlechtere Genauigkeit\n",
    "\n",
    "* Viel Dimensionen = genauer, aber overfitting möglich\n",
    "\n",
    "➡Die optimale Zahl findest du durch Validierung: verschiedene Modelle ausprobieren und schauen, was am besten generalisiert."
   ]
  },
  {
   "cell_type": "markdown",
   "id": "3a5bf5af",
   "metadata": {},
   "source": [
    "### Collaborative Filtering from Scratch"
   ]
  },
  {
   "cell_type": "code",
   "execution_count": 57,
   "id": "af253573",
   "metadata": {},
   "outputs": [],
   "source": [
    "class DotProduct(Module):\n",
    "    def __init__(self, n_user, n_movies, n_factors):\n",
    "        # eder Nutzer und jeder Film bekommt einen Vektor mit n_factors Latenten\n",
    "        self.user_factors = Embedding(n_users, n_factors)\n",
    "        self.movie_factors = Embedding(n_movies, n_factors)\n",
    "        \n",
    "    def forward(self, x):\n",
    "        users = self.user_factors(x[:, 0])\n",
    "        movies = self.movie_factors(x[:, 1])\n",
    "        return (users * movies).sum(dim=1)  "
   ]
  },
  {
   "cell_type": "code",
   "execution_count": 58,
   "id": "d03c8166",
   "metadata": {},
   "outputs": [
    {
     "data": {
      "text/plain": [
       "(torch.Size([64, 2]), torch.Size([64, 1]))"
      ]
     },
     "execution_count": 58,
     "metadata": {},
     "output_type": "execute_result"
    }
   ],
   "source": [
    "x, y = dls.one_batch()\n",
    "x.shape, y.shape"
   ]
  },
  {
   "cell_type": "markdown",
   "id": "99c1eb1d",
   "metadata": {},
   "source": [
    "#### Training \n",
    "\n",
    "#### 1. \"One Cycle Policy\" – Die Idee\n",
    "Die „One Cycle Policy“ stammt von Leslie Smith und funktioniert so:\n",
    "\n",
    "Lernrate:\n",
    "* Startet niedrig, dann steigt sie auf ein Maximum (lr_max),\n",
    "\n",
    "* und fällt dann wieder langsam ab.\n",
    "\n",
    "Momentum:\n",
    "* Momentum verhält sich umgekehrt zur Lernrate:\n",
    "\n",
    "* (Wenn Lernrate steigt → Momentum sinkt)\n",
    "\n",
    "* (Wenn Lernrate fällt → Momentum steigt wieder)\n",
    "\n",
    "Dadurch lernt das Netzwerk schneller, vermeidet schlechte Minima und generalisiert besser.\n",
    "\n",
    "#### 2. Warum ist das gut?\n",
    "* Reduziert Overfitting, weil am Ende eine kleine Lernrate genutzt wird.\n",
    "\n",
    "* Exploration am Anfang (große Lernrate) hilft dem Modell, „weite Täler“ im Fehlerraum zu finden → besser generalisierende Lösungen.\n",
    "\n",
    "* Bewährte Praxis in NLP, CV, etc."
   ]
  },
  {
   "cell_type": "code",
   "execution_count": 60,
   "id": "74be06c2",
   "metadata": {},
   "outputs": [
    {
     "data": {
      "text/html": [
       "\n",
       "<style>\n",
       "    /* Turns off some styling */\n",
       "    progress {\n",
       "        /* gets rid of default border in Firefox and Opera. */\n",
       "        border: none;\n",
       "        /* Needs to be in here for Safari polyfill so background images work as expected. */\n",
       "        background-size: auto;\n",
       "    }\n",
       "    progress:not([value]), progress:not([value])::-webkit-progress-bar {\n",
       "        background: repeating-linear-gradient(45deg, #7e7e7e, #7e7e7e 10px, #5c5c5c 10px, #5c5c5c 20px);\n",
       "    }\n",
       "    .progress-bar-interrupted, .progress-bar-interrupted::-webkit-progress-bar {\n",
       "        background: #F44336;\n",
       "    }\n",
       "</style>\n"
      ],
      "text/plain": [
       "<IPython.core.display.HTML object>"
      ]
     },
     "metadata": {},
     "output_type": "display_data"
    },
    {
     "data": {
      "text/html": [
       "<table border=\"1\" class=\"dataframe\">\n",
       "  <thead>\n",
       "    <tr style=\"text-align: left;\">\n",
       "      <th>epoch</th>\n",
       "      <th>train_loss</th>\n",
       "      <th>valid_loss</th>\n",
       "      <th>time</th>\n",
       "    </tr>\n",
       "  </thead>\n",
       "  <tbody>\n",
       "    <tr>\n",
       "      <td>0</td>\n",
       "      <td>1.343954</td>\n",
       "      <td>1.340800</td>\n",
       "      <td>00:05</td>\n",
       "    </tr>\n",
       "    <tr>\n",
       "      <td>1</td>\n",
       "      <td>1.025920</td>\n",
       "      <td>1.085733</td>\n",
       "      <td>00:04</td>\n",
       "    </tr>\n",
       "    <tr>\n",
       "      <td>2</td>\n",
       "      <td>0.877067</td>\n",
       "      <td>0.985438</td>\n",
       "      <td>00:04</td>\n",
       "    </tr>\n",
       "    <tr>\n",
       "      <td>3</td>\n",
       "      <td>0.773130</td>\n",
       "      <td>0.900094</td>\n",
       "      <td>00:04</td>\n",
       "    </tr>\n",
       "    <tr>\n",
       "      <td>4</td>\n",
       "      <td>0.748980</td>\n",
       "      <td>0.877117</td>\n",
       "      <td>00:04</td>\n",
       "    </tr>\n",
       "  </tbody>\n",
       "</table>"
      ],
      "text/plain": [
       "<IPython.core.display.HTML object>"
      ]
     },
     "metadata": {},
     "output_type": "display_data"
    }
   ],
   "source": [
    "model = DotProduct(n_users, n_movies, 50)\n",
    "learn = Learner(dls, model, loss_func=MSELossFlat())\n",
    "learn.fit_one_cycle(5, 5e-3)"
   ]
  },
  {
   "cell_type": "markdown",
   "id": "ba91cb47",
   "metadata": {},
   "source": [
    "#### Bias hinzufügen\n",
    "\n",
    "Damit deine Modellausgabe (pred_rating) immer im erwarteten Wertebereich liegt, z. B.:\n",
    "\n",
    "* Bei Filmratings: zwischen 0 und 5.5 Sternen\n",
    "→ sonst könnten unrealistische Werte wie -3 oder 9 entstehen!\n",
    "\n",
    "* sigmoid(2.0) ≈ 0.88\n",
    "* sigmoid(0.0) = 0.5\n",
    "* sigmoid(-2.0) ≈ 0.12\n",
    "\n",
    "Skaliert auf 0–5.5:\n",
    "* 0.88 * 5.5 ≈ 4.84\n",
    "* 0.5  * 5.5 = 2.75\n",
    "* 0.12 * 5.5 ≈ 0.66\n"
   ]
  },
  {
   "cell_type": "code",
   "execution_count": 62,
   "id": "c8380926",
   "metadata": {},
   "outputs": [],
   "source": [
    "class DotProductBias(Module):\n",
    "    def __init__(self, n_users, n_movies, n_factors, y_range=(0,5.5)):\n",
    "        self.user_factors = Embedding(n_users, n_factors)\n",
    "        self.user_bias = Embedding(n_users, 1)\n",
    "        self.movie_factors = Embedding(n_movies, n_factors)\n",
    "        self.movie_bias = Embedding(n_movies, 1)\n",
    "        self.y_range = y_range\n",
    "        \n",
    "    def forward(self, x):\n",
    "        users = self.user_factors(x[:,0])\n",
    "        movies = self.movie_factors(x[:,1])\n",
    "        res = (users * movies).sum(dim=1, keepdim=True)\n",
    "        res += self.user_bias(x[:,0]) + self.movie_bias(x[:,1])\n",
    "        return sigmoid_range(res, *self.y_range)\n",
    "     "
   ]
  },
  {
   "cell_type": "code",
   "execution_count": 63,
   "id": "95b75544",
   "metadata": {},
   "outputs": [
    {
     "data": {
      "text/html": [
       "\n",
       "<style>\n",
       "    /* Turns off some styling */\n",
       "    progress {\n",
       "        /* gets rid of default border in Firefox and Opera. */\n",
       "        border: none;\n",
       "        /* Needs to be in here for Safari polyfill so background images work as expected. */\n",
       "        background-size: auto;\n",
       "    }\n",
       "    progress:not([value]), progress:not([value])::-webkit-progress-bar {\n",
       "        background: repeating-linear-gradient(45deg, #7e7e7e, #7e7e7e 10px, #5c5c5c 10px, #5c5c5c 20px);\n",
       "    }\n",
       "    .progress-bar-interrupted, .progress-bar-interrupted::-webkit-progress-bar {\n",
       "        background: #F44336;\n",
       "    }\n",
       "</style>\n"
      ],
      "text/plain": [
       "<IPython.core.display.HTML object>"
      ]
     },
     "metadata": {},
     "output_type": "display_data"
    },
    {
     "data": {
      "text/html": [
       "<table border=\"1\" class=\"dataframe\">\n",
       "  <thead>\n",
       "    <tr style=\"text-align: left;\">\n",
       "      <th>epoch</th>\n",
       "      <th>train_loss</th>\n",
       "      <th>valid_loss</th>\n",
       "      <th>time</th>\n",
       "    </tr>\n",
       "  </thead>\n",
       "  <tbody>\n",
       "    <tr>\n",
       "      <td>0</td>\n",
       "      <td>0.852983</td>\n",
       "      <td>0.938410</td>\n",
       "      <td>00:05</td>\n",
       "    </tr>\n",
       "    <tr>\n",
       "      <td>1</td>\n",
       "      <td>0.549487</td>\n",
       "      <td>0.915182</td>\n",
       "      <td>00:05</td>\n",
       "    </tr>\n",
       "    <tr>\n",
       "      <td>2</td>\n",
       "      <td>0.404705</td>\n",
       "      <td>0.951297</td>\n",
       "      <td>00:06</td>\n",
       "    </tr>\n",
       "    <tr>\n",
       "      <td>3</td>\n",
       "      <td>0.306621</td>\n",
       "      <td>0.965349</td>\n",
       "      <td>00:05</td>\n",
       "    </tr>\n",
       "    <tr>\n",
       "      <td>4</td>\n",
       "      <td>0.291226</td>\n",
       "      <td>0.965802</td>\n",
       "      <td>00:05</td>\n",
       "    </tr>\n",
       "  </tbody>\n",
       "</table>"
      ],
      "text/plain": [
       "<IPython.core.display.HTML object>"
      ]
     },
     "metadata": {},
     "output_type": "display_data"
    }
   ],
   "source": [
    "model = DotProductBias(n_users, n_movies, 50)\n",
    "learn = Learner(dls, model, loss_func=MSELossFlat())\n",
    "learn.fit_one_cycle(5, 5e-3)"
   ]
  },
  {
   "cell_type": "markdown",
   "id": "6d734c2f",
   "metadata": {},
   "source": [
    "### Was ist Weight Decay?\n",
    "\n",
    "**Weight Decay** bedeutet:  \n",
    "Man fügt zur Verlustfunktion einen zusätzlichen **Strafterm** hinzu:\n",
    "\n",
    "$$\n",
    "\\text{Loss}_{\\text{neu}} = \\text{Loss} + \\text{wd} \\cdot \\sum (\\text{alle Gewichte})^2\n",
    "$$\n",
    "\n",
    "Dieser Term bestraft **große Gewichtswerte**, sodass das Modell **kleinere (glattere) Lösungen** bevorzugt.\n",
    "\n",
    "---\n",
    "\n",
    "#### Warum hilft das gegen Overfitting?\n",
    "\n",
    "Stell dir eine einfache Parabel vor:\n",
    "\n",
    "$$\n",
    "y = a \\cdot x^2\n",
    "$$\n",
    "\n",
    "- Wenn \\( a \\) **groß** ist → die Kurve ist **steil und scharf** → hohe Komplexität  \n",
    "- Wenn \\( a \\) **klein** ist → die Kurve ist **flacher** → bessere Generalisierung\n",
    "\n",
    "**Große Gewichte** → scharfe, überkomplexe Funktionen → **Overfitting**  \n",
    "**Kleine Gewichte** → glattere Funktionen → **bessere Generalisierung**\n",
    "\n",
    "---\n",
    "\n",
    "#### Mathematisch hinter den Kulissen\n",
    "\n",
    "Anstatt die quadratischen Terme **explizit** zur Loss-Funktion zu addieren (ineffizient), nutzt man:\n",
    "\n",
    "$$\n",
    "\\frac{d}{dp}(p^2) = 2p\n",
    "$$\n",
    "\n",
    "Das heißt:  \n",
    "Beim Backpropagation-Schritt wird der **Gradient einfach modifiziert**:\n",
    "\n",
    "$$\n",
    "\\text{Gradient} += \\text{wd} \\cdot 2 \\cdot \\text{Gewicht}\n",
    "$$\n",
    "\n",
    "In der Praxis wird einfach:\n",
    "\n",
    "$$\n",
    "\\text{wd} \\cdot 2\n",
    "$$\n",
    "\n",
    "verwendet und direkt im Optimierer berücksichtigt.\n"
   ]
  },
  {
   "cell_type": "code",
   "execution_count": 64,
   "id": "c6f0e35f",
   "metadata": {},
   "outputs": [
    {
     "data": {
      "image/png": "[encoded data removed]",
      "text/plain": [
       "<Figure size 800x600 with 1 Axes>"
      ]
     },
     "metadata": {},
     "output_type": "display_data"
    }
   ],
   "source": [
    "x = np.linspace(-2,2,100)\n",
    "a_s = [1,2,5,10,50] \n",
    "ys = [a * x**2 for a in a_s]\n",
    "_,ax = plt.subplots(figsize=(8,6))\n",
    "for a,y in zip(a_s,ys): ax.plot(x,y, label=f'a={a}')\n",
    "ax.set_ylim([0,5])\n",
    "ax.legend();"
   ]
  },
  {
   "cell_type": "code",
   "execution_count": 65,
   "id": "6b024ba4",
   "metadata": {},
   "outputs": [
    {
     "data": {
      "text/html": [
       "\n",
       "<style>\n",
       "    /* Turns off some styling */\n",
       "    progress {\n",
       "        /* gets rid of default border in Firefox and Opera. */\n",
       "        border: none;\n",
       "        /* Needs to be in here for Safari polyfill so background images work as expected. */\n",
       "        background-size: auto;\n",
       "    }\n",
       "    progress:not([value]), progress:not([value])::-webkit-progress-bar {\n",
       "        background: repeating-linear-gradient(45deg, #7e7e7e, #7e7e7e 10px, #5c5c5c 10px, #5c5c5c 20px);\n",
       "    }\n",
       "    .progress-bar-interrupted, .progress-bar-interrupted::-webkit-progress-bar {\n",
       "        background: #F44336;\n",
       "    }\n",
       "</style>\n"
      ],
      "text/plain": [
       "<IPython.core.display.HTML object>"
      ]
     },
     "metadata": {},
     "output_type": "display_data"
    },
    {
     "data": {
      "text/html": [
       "<table border=\"1\" class=\"dataframe\">\n",
       "  <thead>\n",
       "    <tr style=\"text-align: left;\">\n",
       "      <th>epoch</th>\n",
       "      <th>train_loss</th>\n",
       "      <th>valid_loss</th>\n",
       "      <th>time</th>\n",
       "    </tr>\n",
       "  </thead>\n",
       "  <tbody>\n",
       "    <tr>\n",
       "      <td>0</td>\n",
       "      <td>0.889371</td>\n",
       "      <td>0.938958</td>\n",
       "      <td>00:05</td>\n",
       "    </tr>\n",
       "    <tr>\n",
       "      <td>1</td>\n",
       "      <td>0.667413</td>\n",
       "      <td>0.894071</td>\n",
       "      <td>00:05</td>\n",
       "    </tr>\n",
       "    <tr>\n",
       "      <td>2</td>\n",
       "      <td>0.532753</td>\n",
       "      <td>0.879208</td>\n",
       "      <td>00:05</td>\n",
       "    </tr>\n",
       "    <tr>\n",
       "      <td>3</td>\n",
       "      <td>0.452732</td>\n",
       "      <td>0.860240</td>\n",
       "      <td>00:05</td>\n",
       "    </tr>\n",
       "    <tr>\n",
       "      <td>4</td>\n",
       "      <td>0.435358</td>\n",
       "      <td>0.856967</td>\n",
       "      <td>00:05</td>\n",
       "    </tr>\n",
       "  </tbody>\n",
       "</table>"
      ],
      "text/plain": [
       "<IPython.core.display.HTML object>"
      ]
     },
     "metadata": {},
     "output_type": "display_data"
    }
   ],
   "source": [
    "model = DotProductBias(n_users, n_movies, 50)\n",
    "learn = Learner(dls, model, loss_func=MSELossFlat())\n",
    "learn.fit_one_cycle(5, 5e-3, wd=0.1) # Der Parameter wd=0.1 fügt die Regularisierung hinzu."
   ]
  },
  {
   "cell_type": "markdown",
   "id": "6bd79dc7",
   "metadata": {},
   "source": [
    "## Creating Our Own Embedding Module"
   ]
  },
  {
   "cell_type": "markdown",
   "id": "2db763b7",
   "metadata": {},
   "source": [
    "Wenn du ein normales Tensor-Attribut in ein nn.Module einfügst, dieses Tensor ist nicht trainierbar, weil PyTorch es nicht als Parameter erkennt."
   ]
  },
  {
   "cell_type": "code",
   "execution_count": 66,
   "id": "996b3749",
   "metadata": {},
   "outputs": [
    {
     "data": {
      "text/plain": [
       "(#0) []"
      ]
     },
     "execution_count": 66,
     "metadata": {},
     "output_type": "execute_result"
    }
   ],
   "source": [
    "class T(Module):\n",
    "    def __init__(self):\n",
    "        self.a = torch.ones(3)\n",
    "        \n",
    "L(T().parameters())"
   ]
  },
  {
   "cell_type": "markdown",
   "id": "3bf3c094",
   "metadata": {},
   "source": [
    "### Lösung "
   ]
  },
  {
   "cell_type": "code",
   "execution_count": 67,
   "id": "b9c32886",
   "metadata": {},
   "outputs": [
    {
     "data": {
      "text/plain": [
       "(#1) [Parameter containing:\n",
       "tensor([1., 1., 1.], requires_grad=True)]"
      ]
     },
     "execution_count": 67,
     "metadata": {},
     "output_type": "execute_result"
    }
   ],
   "source": [
    "class T(Module):\n",
    "    def __init__(self):\n",
    "        self.a = nn.Parameter(torch.ones(3))\n",
    "        \n",
    "L(T().parameters())"
   ]
  },
  {
   "cell_type": "code",
   "execution_count": 71,
   "id": "81b4969d",
   "metadata": {},
   "outputs": [
    {
     "data": {
      "text/plain": [
       "(#1) [Parameter containing:\n",
       "tensor([[ 0.4203],\n",
       "        [ 0.7375],\n",
       "        [-0.7119]], requires_grad=True)]"
      ]
     },
     "execution_count": 71,
     "metadata": {},
     "output_type": "execute_result"
    }
   ],
   "source": [
    "class T(Module):\n",
    "    def __init__(self): self.a = nn.Linear(1, 3, bias=False)\n",
    "\n",
    "t = T()\n",
    "L(t.parameters())"
   ]
  },
  {
   "cell_type": "code",
   "execution_count": 72,
   "id": "1499d8f9",
   "metadata": {},
   "outputs": [
    {
     "data": {
      "text/plain": [
       "torch.nn.parameter.Parameter"
      ]
     },
     "execution_count": 72,
     "metadata": {},
     "output_type": "execute_result"
    }
   ],
   "source": [
    "type(t.a.weight)"
   ]
  },
  {
   "cell_type": "markdown",
   "id": "13fdeac3",
   "metadata": {},
   "source": [
    "### DotProductBias ohne Embedding"
   ]
  },
  {
   "cell_type": "code",
   "execution_count": 76,
   "id": "a7227f8a",
   "metadata": {},
   "outputs": [],
   "source": [
    "def create_params(size):\n",
    "    return nn.Parameter(torch.zeros(*size).normal_(0, 0.01))"
   ]
  },
  {
   "cell_type": "code",
   "execution_count": 78,
   "id": "00869cb4",
   "metadata": {},
   "outputs": [
    {
     "data": {
      "text/plain": [
       "torch.Size([944, 5])"
      ]
     },
     "execution_count": 78,
     "metadata": {},
     "output_type": "execute_result"
    }
   ],
   "source": [
    "create_params([n_users, n_factors]).shape"
   ]
  },
  {
   "cell_type": "code",
   "execution_count": 87,
   "id": "411895e2",
   "metadata": {},
   "outputs": [],
   "source": [
    "class DotProductBias(Module):\n",
    "    def __init__(self, n_users, n_movies, n_factors, y_range=(0,5.5)):\n",
    "        self.user_factors = create_params([n_users, n_factors])\n",
    "        self.user_bias = create_params([n_users])\n",
    "        self.movie_factors = create_params([n_movies, n_factors])\n",
    "        self.movie_bias = create_params([n_movies])\n",
    "        self.y_range = y_range\n",
    "        \n",
    "    def forward(self, x):\n",
    "        users = self.user_factors[x[:,0]]\n",
    "        movies = self.movie_factors[x[:,1]]\n",
    "        res = (users*movies).sum(dim=1)\n",
    "        res += self.user_bias[x[:,0]] + self.movie_bias[x[:,1]]\n",
    "        return sigmoid_range(res, *self.y_range)"
   ]
  },
  {
   "cell_type": "code",
   "execution_count": 88,
   "id": "24c5d2ac",
   "metadata": {},
   "outputs": [
    {
     "data": {
      "text/html": [
       "\n",
       "<style>\n",
       "    /* Turns off some styling */\n",
       "    progress {\n",
       "        /* gets rid of default border in Firefox and Opera. */\n",
       "        border: none;\n",
       "        /* Needs to be in here for Safari polyfill so background images work as expected. */\n",
       "        background-size: auto;\n",
       "    }\n",
       "    progress:not([value]), progress:not([value])::-webkit-progress-bar {\n",
       "        background: repeating-linear-gradient(45deg, #7e7e7e, #7e7e7e 10px, #5c5c5c 10px, #5c5c5c 20px);\n",
       "    }\n",
       "    .progress-bar-interrupted, .progress-bar-interrupted::-webkit-progress-bar {\n",
       "        background: #F44336;\n",
       "    }\n",
       "</style>\n"
      ],
      "text/plain": [
       "<IPython.core.display.HTML object>"
      ]
     },
     "metadata": {},
     "output_type": "display_data"
    },
    {
     "data": {
      "text/html": [
       "<table border=\"1\" class=\"dataframe\">\n",
       "  <thead>\n",
       "    <tr style=\"text-align: left;\">\n",
       "      <th>epoch</th>\n",
       "      <th>train_loss</th>\n",
       "      <th>valid_loss</th>\n",
       "      <th>time</th>\n",
       "    </tr>\n",
       "  </thead>\n",
       "  <tbody>\n",
       "    <tr>\n",
       "      <td>0</td>\n",
       "      <td>0.889625</td>\n",
       "      <td>0.933394</td>\n",
       "      <td>00:05</td>\n",
       "    </tr>\n",
       "    <tr>\n",
       "      <td>1</td>\n",
       "      <td>0.641659</td>\n",
       "      <td>0.884612</td>\n",
       "      <td>00:05</td>\n",
       "    </tr>\n",
       "    <tr>\n",
       "      <td>2</td>\n",
       "      <td>0.529312</td>\n",
       "      <td>0.868454</td>\n",
       "      <td>00:05</td>\n",
       "    </tr>\n",
       "    <tr>\n",
       "      <td>3</td>\n",
       "      <td>0.458472</td>\n",
       "      <td>0.856043</td>\n",
       "      <td>00:05</td>\n",
       "    </tr>\n",
       "    <tr>\n",
       "      <td>4</td>\n",
       "      <td>0.419467</td>\n",
       "      <td>0.849821</td>\n",
       "      <td>00:05</td>\n",
       "    </tr>\n",
       "  </tbody>\n",
       "</table>"
      ],
      "text/plain": [
       "<IPython.core.display.HTML object>"
      ]
     },
     "metadata": {},
     "output_type": "display_data"
    }
   ],
   "source": [
    "model = DotProductBias(n_users, n_movies, 50)\n",
    "learn = Learner(dls, model, loss_func=MSELossFlat())\n",
    "learn.fit_one_cycle(5, 5e-3, wd=0.1)"
   ]
  },
  {
   "cell_type": "markdown",
   "id": "de0fa3b9",
   "metadata": {},
   "source": [
    "## Interpreting Embeddings and Biases\n",
    "hier geht es darum, was unser Modell eigentlich gelernt hat – also wie es denkt.\n",
    "Auch wenn das Modell gut Empfehlungen macht, wollen wir verstehen:\n",
    "\n",
    "* Was steckt hinter den Zahlen?\n",
    "\n",
    "* Welche Filme mag das Modell automatisch eher – unabhängig vom Nutzerprofil?\n",
    "\n",
    "* Was haben die Embeddings gelernt?\n",
    "\n",
    "\n",
    "### Was sind Biases?\n",
    "Bias-Werte (also „Verzerrungen“) sagen uns:\n",
    "\n",
    "* Ob ein Film grundsätzlich gut oder schlecht ankommt – unabhängig vom User.\n",
    "\n",
    "* D.h., auch wenn der Nutzer eigentlich passende Vorlieben hat, mag er diesen Film trotzdem (nicht)."
   ]
  },
  {
   "cell_type": "code",
   "execution_count": 90,
   "id": "339dcb20",
   "metadata": {},
   "outputs": [
    {
     "data": {
      "text/plain": [
       "['Grease 2 (1982)',\n",
       " 'Showgirls (1995)',\n",
       " 'Spice World (1997)',\n",
       " 'Children of the Corn: The Gathering (1996)',\n",
       " 'Lawnmower Man 2: Beyond Cyberspace (1996)']"
      ]
     },
     "execution_count": 90,
     "metadata": {},
     "output_type": "execute_result"
    }
   ],
   "source": [
    "# Filme mit dem niedrigsten Bias (also am unbeliebtesten)\n",
    "movie_bias = learn.model.movie_bias.squeeze()\n",
    "idxs = movie_bias.argsort()[:5]\n",
    "[dls.classes['title'][i] for i in idxs]"
   ]
  },
  {
   "cell_type": "code",
   "execution_count": 91,
   "id": "a8edcfea",
   "metadata": {},
   "outputs": [
    {
     "data": {
      "text/plain": [
       "['Shawshank Redemption, The (1994)',\n",
       " \"Schindler's List (1993)\",\n",
       " 'Rear Window (1954)',\n",
       " 'Good Will Hunting (1997)',\n",
       " 'Titanic (1997)']"
      ]
     },
     "execution_count": 91,
     "metadata": {},
     "output_type": "execute_result"
    }
   ],
   "source": [
    "# Filme mit dem höchsten Bias (also besonders beliebt)\n",
    "idxs = movie_bias.argsort(descending=True)[:5]\n",
    "[dls.classes['title'][i] for i in idxs]"
   ]
  },
  {
   "cell_type": "markdown",
   "id": "7dd7e79a",
   "metadata": {},
   "source": [
    "### Embeddings direkt interpretieren?\n",
    "Schwierig. Denn:\n",
    "\n",
    "* Sie bestehen aus vielen Dimensionen (z. B. 50).\n",
    "\n",
    "* Das ist nicht intuitiv für Menschen.\n",
    "\n",
    "Lösung: PCA (Principal Component Analysis)\n",
    "\n",
    "* PCA reduziert die Dimensionen.\n",
    "\n",
    "* Ergebnis: Die wichtigsten Richtungen (also „Hauptachsen“) werden sichtbar."
   ]
  },
  {
   "cell_type": "code",
   "execution_count": 93,
   "id": "2af0973a",
   "metadata": {},
   "outputs": [
    {
     "data": {
      "image/png": "[encoded data removed]",
      "text/plain": [
       "<Figure size 1200x1200 with 1 Axes>"
      ]
     },
     "metadata": {},
     "output_type": "display_data"
    }
   ],
   "source": [
    "g = ratings.groupby('title')['rating'].count()\n",
    "top_movies = g.sort_values(ascending=False).index.values[:1000]\n",
    "top_idxs = tensor([learn.dls.classes['title'].o2i[m] for m in top_movies])\n",
    "movie_w = learn.model.movie_factors[top_idxs].cpu().detach()\n",
    "movie_pca = movie_w.pca(3)\n",
    "fac0,fac1,fac2 = movie_pca.t()\n",
    "idxs = list(range(50))\n",
    "X = fac0[idxs]\n",
    "Y = fac2[idxs]\n",
    "plt.figure(figsize=(12,12))\n",
    "plt.scatter(X, Y)\n",
    "for i, x, y in zip(top_movies[idxs], X, Y):\n",
    "    plt.text(x,y,i, color=np.random.rand(3)*0.7, fontsize=11)\n",
    "plt.show()"
   ]
  },
  {
   "cell_type": "markdown",
   "id": "4c05e43e",
   "metadata": {},
   "source": [
    "## Using fastai.collab\n",
    "\n",
    "Ein bereits eingebautes, leistungsstarkes Modell nutzen, das genau dieselbe Architektur wie unser selbstgebautes Modell hat – aber in einer Zeile trainiert werden kann"
   ]
  },
  {
   "cell_type": "code",
   "execution_count": 98,
   "id": "af244d3d",
   "metadata": {},
   "outputs": [
    {
     "data": {
      "text/html": [
       "\n",
       "<style>\n",
       "    /* Turns off some styling */\n",
       "    progress {\n",
       "        /* gets rid of default border in Firefox and Opera. */\n",
       "        border: none;\n",
       "        /* Needs to be in here for Safari polyfill so background images work as expected. */\n",
       "        background-size: auto;\n",
       "    }\n",
       "    progress:not([value]), progress:not([value])::-webkit-progress-bar {\n",
       "        background: repeating-linear-gradient(45deg, #7e7e7e, #7e7e7e 10px, #5c5c5c 10px, #5c5c5c 20px);\n",
       "    }\n",
       "    .progress-bar-interrupted, .progress-bar-interrupted::-webkit-progress-bar {\n",
       "        background: #F44336;\n",
       "    }\n",
       "</style>\n"
      ],
      "text/plain": [
       "<IPython.core.display.HTML object>"
      ]
     },
     "metadata": {},
     "output_type": "display_data"
    },
    {
     "data": {
      "text/html": [
       "<table border=\"1\" class=\"dataframe\">\n",
       "  <thead>\n",
       "    <tr style=\"text-align: left;\">\n",
       "      <th>epoch</th>\n",
       "      <th>train_loss</th>\n",
       "      <th>valid_loss</th>\n",
       "      <th>time</th>\n",
       "    </tr>\n",
       "  </thead>\n",
       "  <tbody>\n",
       "    <tr>\n",
       "      <td>0</td>\n",
       "      <td>0.905025</td>\n",
       "      <td>0.953261</td>\n",
       "      <td>00:05</td>\n",
       "    </tr>\n",
       "    <tr>\n",
       "      <td>1</td>\n",
       "      <td>0.688542</td>\n",
       "      <td>0.888006</td>\n",
       "      <td>00:05</td>\n",
       "    </tr>\n",
       "    <tr>\n",
       "      <td>2</td>\n",
       "      <td>0.546988</td>\n",
       "      <td>0.863869</td>\n",
       "      <td>00:05</td>\n",
       "    </tr>\n",
       "    <tr>\n",
       "      <td>3</td>\n",
       "      <td>0.451574</td>\n",
       "      <td>0.849659</td>\n",
       "      <td>00:05</td>\n",
       "    </tr>\n",
       "    <tr>\n",
       "      <td>4</td>\n",
       "      <td>0.453525</td>\n",
       "      <td>0.846385</td>\n",
       "      <td>00:05</td>\n",
       "    </tr>\n",
       "  </tbody>\n",
       "</table>"
      ],
      "text/plain": [
       "<IPython.core.display.HTML object>"
      ]
     },
     "metadata": {},
     "output_type": "display_data"
    }
   ],
   "source": [
    "learn = collab_learner(dls, n_factors=50, y_range=(0, 5.5))\n",
    "learn.fit_one_cycle(5, 5e-3, wd=0.1)"
   ]
  },
  {
   "cell_type": "code",
   "execution_count": 100,
   "id": "31b73041",
   "metadata": {},
   "outputs": [
    {
     "data": {
      "text/plain": [
       "EmbeddingDotBias(\n",
       "  (u_weight): Embedding(944, 50)\n",
       "  (i_weight): Embedding(1665, 50)\n",
       "  (u_bias): Embedding(944, 1)\n",
       "  (i_bias): Embedding(1665, 1)\n",
       ")"
      ]
     },
     "execution_count": 100,
     "metadata": {},
     "output_type": "execute_result"
    }
   ],
   "source": [
    "# User-Latent-Vektoren\n",
    "# Movie-Latent-Vektoren\n",
    "# User-Biases\n",
    "# Movie-Biases\n",
    "\n",
    "\n",
    "learn.model "
   ]
  },
  {
   "cell_type": "code",
   "execution_count": 101,
   "id": "0e0a1461",
   "metadata": {},
   "outputs": [
    {
     "data": {
      "text/plain": [
       "[\"Schindler's List (1993)\",\n",
       " 'Good Will Hunting (1997)',\n",
       " 'Shawshank Redemption, The (1994)',\n",
       " 'Rear Window (1954)',\n",
       " 'Titanic (1997)']"
      ]
     },
     "execution_count": 101,
     "metadata": {},
     "output_type": "execute_result"
    }
   ],
   "source": [
    "#  Analyse der Bias-Werte\n",
    "movie_bias = learn.model.i_bias.weight.squeeze()\n",
    "idxs = movie_bias.argsort(descending=True)[:5]\n",
    "[dls.classes['title'][i] for i in idxs]"
   ]
  },
  {
   "cell_type": "markdown",
   "id": "0c437cda",
   "metadata": {},
   "source": [
    "## Embedding Distance (ähnliche Filme finden)\n",
    "* Grundidee: Wenn zwei Filme sehr ähnliche Zuschauer anziehen, dann sind ihre Embedding-Vektoren ähnlich → also kleine Distanz im Vektorraum.\n",
    "\n",
    "* Ähnlichkeit kann z. B. über den Kosinus der Winkel zwischen Vektoren gemessen werden.\n",
    "\n",
    "Das heißt: Menschen, die „Silence of the Lambs“ mochten, mögen sehr wahrscheinlich auch „Dial M for Murder“ – obwohl das Modell nicht weiß, dass beide psychologische Thriller sind!"
   ]
  },
  {
   "cell_type": "code",
   "execution_count": 102,
   "id": "fb36e4e6",
   "metadata": {},
   "outputs": [
    {
     "data": {
      "text/plain": [
       "'You So Crazy (1994)'"
      ]
     },
     "execution_count": 102,
     "metadata": {},
     "output_type": "execute_result"
    }
   ],
   "source": [
    "movie_factors = learn.model.i_weight.weight\n",
    "idx = dls.classes['title'].o2i['Silence of the Lambs, The (1991)']\n",
    "distances = nn.CosineSimilarity(dim=1)(movie_factors, movie_factors[idx][None])\n",
    "idx = distances.argsort(descending=True)[1]  # [0] wäre der Film selbst\n",
    "dls.classes['title'][idx]"
   ]
  },
  {
   "cell_type": "markdown",
   "id": "eed21ebd",
   "metadata": {},
   "source": [
    "## Bootstrapping a Collaborative Filtering Model\n",
    "Wie machen wir Empfehlungen für neue Nutzer, die noch keine Bewertungen abgegeben haben?"
   ]
  },
  {
   "cell_type": "markdown",
   "id": "722a40c4",
   "metadata": {},
   "source": [
    "## Bootstrapping a Collaborative Filtering Model\n",
    "\n",
    "### Problem: Neue Nutzer oder Produkte haben keine Daten\n",
    "\n",
    "Bevor wir überhaupt Empfehlungen aussprechen können, brauchen klassische kollaborative Modelle (wie unser Dot-Product-Modell) vergangene Bewertungen.  \n",
    "Doch was passiert bei einem neuen Nutzer, der noch keinen einzigen Film bewertet hat?\n",
    "\n",
    "---\n",
    "\n",
    "### Lösungsmöglichkeiten:\n",
    "\n",
    "**1. Durchschnitt nehmen (naiv)**  \n",
    "→ Durchschnitt der Embedding-Vektoren aller Nutzer verwenden\n",
    "\n",
    "*Aber:*  \n",
    "Der Mittelwert ist oft nicht repräsentativ für echte Nutzer.  \n",
    "Beispiel: Hohe Sci-Fi-Präferenz kombiniert mit niedriger Action-Priorität – kommt selten vor.\n",
    "\n",
    "---\n",
    "\n",
    "**2. Durchschnittlicher Beispielnutzer**  \n",
    "→ Einen echten Nutzer mit „mittlerem Geschmack“ auswählen\n",
    "\n",
    "Besser als der Mittelwert, aber noch sehr grob – keine Personalisierung.\n",
    "\n",
    "---\n",
    "\n",
    "**3. Tabellenmodell (Tabular Model) basierend auf Nutzer-Metadaten**  \n",
    "→ Beste Option: Frage neue Nutzer beim Onboarding gezielt nach Vorlieben  \n",
    "→ Trainiere dann ein Modell, das daraus die Embedding-Vektoren der Nutzer vorhersagt.\n",
    "\n",
    "**Beispiel:**\n",
    "\n",
    "Eingaben:\n",
    "- Alter: 26  \n",
    "- Lieblingsgenre: „Sci-Fi“  \n",
    "- Lieblingsfilm: „Interstellar“  \n",
    "- Geschlecht: Divers  \n",
    "\n",
    "Ausgabe:\n",
    "vektor = [0.78, 0.34, -0.92, ..., 0.15]\n",
    "``\n",
    "\n",
    "\n",
    "\n",
    "So entstehen personalisierte Embeddings für neue Nutzer, **ohne dass sie Bewertungen abgeben mussten**.\n",
    "\n",
    "Viele Plattformen wie Netflix, Spotify oder Pandora nutzen genau diese Strategie.  \n",
    "Deshalb wirst du beim Start gefragt:  \n",
    "„Welche Genres magst du? Welche Künstler gefallen dir?“\n",
    "\n",
    "---\n",
    "\n",
    "### Achtung: Repräsentations-Bias\n",
    "\n",
    "Ein ernstes Problem:\n",
    "\n",
    "Wenn wenige Nutzer (z. B. Anime-Fans) besonders aktiv bewerten, beeinflussen sie stark das Modell.\n",
    "\n",
    "→ Beliebtheit verzerrt sich Richtung „Anime“ – auch wenn das nur für 5 % der Nutzer gilt.\n",
    "\n",
    "**Warum ist das gefährlich?**\n",
    "\n",
    "→ Positive Feedback-Loops entstehen:\n",
    "- Empfehlungsmodell bevorzugt Anime  \n",
    "- Mehr Anime-Nutzer werden angezogen  \n",
    "- Modell verstärkt diese Richtung weiter  \n",
    "- Das System driftet völlig ab\n",
    "\n",
    "**Resultat:** Divergenz zwischen Unternehmenswerten und dem Verhalten des Systems (z. B. bei YouTube- oder Facebook-Empfehlungen)\n",
    "\n",
    "---\n",
    "\n",
    "### Fazit und Praxis-Empfehlung\n",
    "\n",
    "- Feedback-Schleifen sind die Regel, nicht die Ausnahme  \n",
    "- Plane Monitoring, menschliche Kontrolle und vorsichtiges Rollout  \n",
    "- Vermeide es, dem System blind zu vertrauen – implementiere Checks\n",
    "\n",
    "---\n",
    "\n",
    "### Das Modell basiert auf Probabilistic Matrix Factorization (PMF)\n",
    "\n",
    "- Dot-Product + SGD-Lernen ≈ klassische Methode für Matrix-Faktorisierung  \n",
    "- Robust, einfach, weit verbreitet\n"
   ]
  },
  {
   "cell_type": "markdown",
   "id": "69c0fe28",
   "metadata": {},
   "source": [
    "## Deep Learning für Collaborative Filtering"
   ]
  },
  {
   "cell_type": "code",
   "execution_count": 103,
   "id": "5c0d2775",
   "metadata": {},
   "outputs": [
    {
     "data": {
      "text/plain": [
       "[(944, 74), (1665, 102)]"
      ]
     },
     "execution_count": 103,
     "metadata": {},
     "output_type": "execute_result"
    }
   ],
   "source": [
    "embs = get_emb_sz(dls)\n",
    "embs"
   ]
  },
  {
   "cell_type": "code",
   "execution_count": 104,
   "id": "9d6eeb16",
   "metadata": {},
   "outputs": [],
   "source": [
    "class CollabNN(Module):\n",
    "    def __init__(self, user_sz, item_sz, y_range=(0,5.5), n_act=100):\n",
    "        self.user_factors = Embedding(*user_sz)\n",
    "        self.item_factors = Embedding(*item_sz)\n",
    "        self.layers = nn.Sequential(\n",
    "            nn.Linear(user_sz[1] + item_sz[1], n_act),\n",
    "            nn.ReLU(),\n",
    "            nn.Linear(n_act, 1)\n",
    "        )\n",
    "        self.y_range = y_range\n",
    "\n",
    "    def forward(self, x):\n",
    "        embs = self.user_factors(x[:,0]), self.item_factors(x[:,1])\n",
    "        x = self.layers(torch.cat(embs, dim=1))\n",
    "        return sigmoid_range(x, *self.y_range)"
   ]
  },
  {
   "cell_type": "code",
   "execution_count": 108,
   "id": "03d4cd3c",
   "metadata": {},
   "outputs": [],
   "source": [
    "model = CollabNN(*embs)"
   ]
  },
  {
   "cell_type": "code",
   "execution_count": 109,
   "id": "6b7657a7",
   "metadata": {},
   "outputs": [
    {
     "data": {
      "text/html": [
       "\n",
       "<style>\n",
       "    /* Turns off some styling */\n",
       "    progress {\n",
       "        /* gets rid of default border in Firefox and Opera. */\n",
       "        border: none;\n",
       "        /* Needs to be in here for Safari polyfill so background images work as expected. */\n",
       "        background-size: auto;\n",
       "    }\n",
       "    progress:not([value]), progress:not([value])::-webkit-progress-bar {\n",
       "        background: repeating-linear-gradient(45deg, #7e7e7e, #7e7e7e 10px, #5c5c5c 10px, #5c5c5c 20px);\n",
       "    }\n",
       "    .progress-bar-interrupted, .progress-bar-interrupted::-webkit-progress-bar {\n",
       "        background: #F44336;\n",
       "    }\n",
       "</style>\n"
      ],
      "text/plain": [
       "<IPython.core.display.HTML object>"
      ]
     },
     "metadata": {},
     "output_type": "display_data"
    },
    {
     "data": {
      "text/html": [
       "<table border=\"1\" class=\"dataframe\">\n",
       "  <thead>\n",
       "    <tr style=\"text-align: left;\">\n",
       "      <th>epoch</th>\n",
       "      <th>train_loss</th>\n",
       "      <th>valid_loss</th>\n",
       "      <th>time</th>\n",
       "    </tr>\n",
       "  </thead>\n",
       "  <tbody>\n",
       "    <tr>\n",
       "      <td>0</td>\n",
       "      <td>0.926873</td>\n",
       "      <td>0.944816</td>\n",
       "      <td>00:06</td>\n",
       "    </tr>\n",
       "    <tr>\n",
       "      <td>1</td>\n",
       "      <td>0.868382</td>\n",
       "      <td>0.900016</td>\n",
       "      <td>00:06</td>\n",
       "    </tr>\n",
       "    <tr>\n",
       "      <td>2</td>\n",
       "      <td>0.813797</td>\n",
       "      <td>0.877195</td>\n",
       "      <td>00:06</td>\n",
       "    </tr>\n",
       "    <tr>\n",
       "      <td>3</td>\n",
       "      <td>0.781913</td>\n",
       "      <td>0.871063</td>\n",
       "      <td>00:06</td>\n",
       "    </tr>\n",
       "    <tr>\n",
       "      <td>4</td>\n",
       "      <td>0.759185</td>\n",
       "      <td>0.869204</td>\n",
       "      <td>00:06</td>\n",
       "    </tr>\n",
       "  </tbody>\n",
       "</table>"
      ],
      "text/plain": [
       "<IPython.core.display.HTML object>"
      ]
     },
     "metadata": {},
     "output_type": "display_data"
    }
   ],
   "source": [
    "learn = Learner(dls, model, loss_func=MSELossFlat())\n",
    "learn.fit_one_cycle(5, 5e-3, wd=0.01)"
   ]
  },
  {
   "cell_type": "code",
   "execution_count": null,
   "id": "9014153f",
   "metadata": {},
   "outputs": [],
   "source": []
  }
 ],
 "metadata": {
  "kernelspec": {
   "display_name": "Python 3 (ipykernel)",
   "language": "python",
   "name": "python3"
  },
  "language_info": {
   "codemirror_mode": {
    "name": "ipython",
    "version": 3
   },
   "file_extension": ".py",
   "mimetype": "text/x-python",
   "name": "python",
   "nbconvert_exporter": "python",
   "pygments_lexer": "ipython3",
   "version": "3.10.16"
  }
 },
 "nbformat": 4,
 "nbformat_minor": 5
}
