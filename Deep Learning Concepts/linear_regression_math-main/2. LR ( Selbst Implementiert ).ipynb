{
 "cells": [
  {
   "cell_type": "code",
   "execution_count": 5,
   "id": "9cca3892",
   "metadata": {},
   "outputs": [],
   "source": [
    "import numpy as np\n",
    "from sklearn.metrics import r2_score\n",
    "\n",
    "class LinearRegression:\n",
    "    def __init__(self, use_intercept: bool = True) -> None:\n",
    "        self.coef_ = None\n",
    "        self.intercept_ = None\n",
    "        self.use_intercept = use_intercept\n",
    "        \n",
    "    def _add_intercept(self, x: np.ndarray) -> np.ndarray:\n",
    "        return np.stack([np.ones_like(x), x],).T\n",
    "        \n",
    "    def fit(self, x: np.ndarray, y: np.ndarray) -> None:\n",
    "        if self.use_intercept:\n",
    "            x = self._add_intercept(x)\n",
    "        Xinv = np.linalg.inv(x.T @ x) @ x.T\n",
    "        beta = Xinv @ y\n",
    "        self.intercept_, self.coef_ = beta[0], beta[1:]\n",
    "    \n",
    "    def predict(self, x: np.ndarray) -> np.ndarray:\n",
    "        if self.use_intercept:\n",
    "            x = self._add_intercept(x)\n",
    "        return np.dot(x, np.concatenate(([self.intercept_], self.coef_)))\n",
    "    \n",
    "    def score(self, x: np.ndarray, y: np.ndarray) -> float:\n",
    "        y_pred = self.predict(x)\n",
    "        return r2_score(y, y_pred)\n"
   ]
  },
  {
   "cell_type": "code",
   "execution_count": 10,
   "id": "8c048eae",
   "metadata": {},
   "outputs": [
    {
     "name": "stdout",
     "output_type": "stream",
     "text": [
      "Score: 0.9670182166826462\n"
     ]
    }
   ],
   "source": [
    "if __name__ == \"__main__\":\n",
    "    x = np.array([1, 2, 3, 4, 5, 6])\n",
    "    y = np.array([3, 5, 7, 8, 12, 15])\n",
    "\n",
    "    lm = LinearRegression()\n",
    "    lm.fit(x, y)\n",
    "    lm.predict(x)\n",
    "    lm_score = lm.score(x, y)\n",
    "    print(f'Score: {lm_score}')"
   ]
  },
  {
   "cell_type": "code",
   "execution_count": null,
   "id": "d00d827a",
   "metadata": {},
   "outputs": [],
   "source": []
  }
 ],
 "metadata": {
  "kernelspec": {
   "display_name": "Python 3 (ipykernel)",
   "language": "python",
   "name": "python3"
  },
  "language_info": {
   "codemirror_mode": {
    "name": "ipython",
    "version": 3
   },
   "file_extension": ".py",
   "mimetype": "text/x-python",
   "name": "python",
   "nbconvert_exporter": "python",
   "pygments_lexer": "ipython3",
   "version": "3.11.5"
  }
 },
 "nbformat": 4,
 "nbformat_minor": 5
}
