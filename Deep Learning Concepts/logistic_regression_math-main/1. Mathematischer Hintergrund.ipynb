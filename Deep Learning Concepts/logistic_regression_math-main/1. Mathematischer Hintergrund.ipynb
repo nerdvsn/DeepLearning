{
 "cells": [
  {
   "cell_type": "code",
   "execution_count": 1,
   "id": "a1a2a6f8",
   "metadata": {},
   "outputs": [
    {
     "name": "stdout",
     "output_type": "stream",
     "text": [
      "[[1 1 3]\n",
      " [1 2 2]\n",
      " [1 3 3]\n",
      " [1 3 2]\n",
      " [1 2 4]\n",
      " [1 3 5]\n",
      " [1 5 3]\n",
      " [1 5 4]\n",
      " [1 6 5]\n",
      " [1 4 4]\n",
      " [1 4 2]]\n",
      "[ 2.31222386 -0.49631811 -0.20471281]\n",
      "w0: 2.3122\n",
      "w1: -0.4963\n",
      "w2: -0.2047\n",
      "[False False False False False  True  True  True  True  True  True]\n"
     ]
    },
    {
     "data": {
      "image/png": "[encoded data removed]",
      "text/plain": [
       "<Figure size 640x480 with 1 Axes>"
      ]
     },
     "metadata": {},
     "output_type": "display_data"
    }
   ],
   "source": [
    "import numpy as np\n",
    "from matplotlib import pyplot as plt\n",
    "\n",
    "# Define our points\n",
    "coords_x1 = np.array([1,2,3,3,2,3,5,5,6,4,4])\n",
    "coords_x2 = np.array([3,2,3,2,4,5,3,4,5,4,2])\n",
    "class_y = np.array([1,1,1,1,1,-1,-1,-1,-1,-1,-1])\n",
    "\n",
    "# Our linear model is y = w_0 + w1 * x1 + w_2 * x2 + w3 * x1**2 + w4 * x2**2 + w5 *x1*x2, setup <the X matrix and Y vector\n",
    "X = np.stack([np.ones_like(coords_x1), coords_x1, coords_x2], axis=1)\n",
    "Y = class_y\n",
    "print(X)\n",
    "\n",
    "# Estimate model paramaters using pseudo-inverse\n",
    "Xinv = np.linalg.inv(X.T @ X) @ X.T\n",
    "model = Xinv @ Y\n",
    "print(model)\n",
    "\n",
    "# # Retrieve model parameters\n",
    "model = model.flatten()\n",
    "w0 = model[0]\n",
    "w1 = model[1]\n",
    "w2 = model[2]\n",
    "print(f\"w0: {w0:.4f}\\nw1: {w1:.4f}\\nw2: {w2:.4f}\")\n",
    "\n",
    "# Our decision boundary now satisfies\n",
    "#       0 = w0 + w1*x1 + w2*x2\n",
    "# <==>  x2 = -w1/w2 * x1 - w0/w2 \n",
    "m = -w1 / w2\n",
    "b = -w0 / w2\n",
    "\n",
    "# Plot them\n",
    "blue_indices = (class_y == -1)\n",
    "red_indices = (class_y == 1)\n",
    "print(blue_indices)\n",
    "\n",
    "plt.plot(coords_x1[blue_indices], coords_x2[blue_indices], 'bo')\n",
    "plt.plot(coords_x1[red_indices], coords_x2[red_indices], 'ro')\n",
    "\n",
    "x = np.linspace(-11,11,100)\n",
    "#plt.plot(x,m*x+b,\"k\")\n",
    "\n",
    "\n",
    "# Let us calculate the decision value for all points in the domain from -11 to 11\n",
    "# and do a contour plot\n",
    "x1, x2 = np.meshgrid(np.linspace(-11,11,10), np.linspace(-11,11,10))\n",
    "z = w0 + w1 * x1 + w2 * x2 \n",
    "plt.contourf(x1, x2, z, levels=[-10,0,10], colors=[\"b\",\"r\"], alpha=.2)\n",
    "plt.contour(x1, x2, z, levels=[0], colors=[\"k\"])\n",
    "plt.xlim((0,7))\n",
    "plt.ylim((0,6))\n",
    "plt.show()"
   ]
  },
  {
   "cell_type": "code",
   "execution_count": null,
   "id": "ebabe5a2",
   "metadata": {},
   "outputs": [],
   "source": []
  }
 ],
 "metadata": {
  "kernelspec": {
   "display_name": "Python 3 (ipykernel)",
   "language": "python",
   "name": "python3"
  },
  "language_info": {
   "codemirror_mode": {
    "name": "ipython",
    "version": 3
   },
   "file_extension": ".py",
   "mimetype": "text/x-python",
   "name": "python",
   "nbconvert_exporter": "python",
   "pygments_lexer": "ipython3",
   "version": "3.11.5"
  }
 },
 "nbformat": 4,
 "nbformat_minor": 5
}
