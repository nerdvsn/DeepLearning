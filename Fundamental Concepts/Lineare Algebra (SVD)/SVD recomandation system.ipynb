{
 "cells": [
  {
   "cell_type": "code",
   "execution_count": 1,
   "id": "b29a7607-aed5-4130-afc9-1bb8e0f58cd0",
   "metadata": {},
   "outputs": [
    {
     "name": "stdout",
     "output_type": "stream",
     "text": [
      "Original Matrix (mit Lücken):\n",
      " [[5. 3. 0. 1.]\n",
      " [4. 0. 0. 1.]\n",
      " [1. 1. 0. 5.]\n",
      " [0. 0. 5. 4.]\n",
      " [0. 1. 5. 4.]]\n",
      "\n",
      "Rekonstruierte Matrix (mit Vorhersagen):\n",
      " [[ 5.08  2.09 -0.59  1.68]\n",
      " [ 3.34  1.38 -0.34  1.16]\n",
      " [ 1.88  1.07  2.07  2.99]\n",
      " [-0.38  0.41  4.48  4.46]\n",
      " [-0.07  0.54  4.46  4.58]]\n"
     ]
    }
   ],
   "source": [
    "import numpy as np\n",
    "from numpy.linalg import svd\n",
    "\n",
    "# Beispiel: Nutzer-Bewertungsmatrix (Zeile: Nutzer, Spalte: Film)\n",
    "R = np.array([\n",
    "    [5, 3, 0, 1],\n",
    "    [4, 0, 0, 1],\n",
    "    [1, 1, 0, 5],\n",
    "    [0, 0, 5, 4],\n",
    "    [0, 1, 5, 4],\n",
    "], dtype=float)\n",
    "\n",
    "# Schritt 1: Führe SVD durch\n",
    "U, S, VT = svd(R, full_matrices=False)\n",
    "\n",
    "# Schritt 2: Wähle die Top-k Komponenten (Reduktion)\n",
    "k = 2  # Wir behalten nur die 2 wichtigsten \"Features\"\n",
    "U_k = U[:, :k]\n",
    "S_k = np.diag(S[:k])\n",
    "VT_k = VT[:k, :]\n",
    "\n",
    "# Schritt 3: Rekonstruiere die Matrix mit reduzierter Dimension\n",
    "R_approx = np.dot(U_k, np.dot(S_k, VT_k)) # np.dot = A @ A Beispiel\n",
    "\n",
    "# Ergebnis anzeigen\n",
    "print(\"Original Matrix (mit Lücken):\\n\", R)\n",
    "print(\"\\nRekonstruierte Matrix (mit Vorhersagen):\\n\", np.round(R_approx, 2))\n"
   ]
  },
  {
   "cell_type": "code",
   "execution_count": 2,
   "id": "62d98d0a-1f35-4ab8-a153-19a44fdfe29d",
   "metadata": {},
   "outputs": [
    {
     "data": {
      "text/plain": [
       "array([[ 5.07935709,  2.09170657, -0.5895779 ,  1.68287709],\n",
       "       [ 3.33973739,  1.38156122, -0.33886418,  1.15693483],\n",
       "       [ 1.87945991,  1.06667215,  2.070676  ,  2.9881331 ],\n",
       "       [-0.38045278,  0.41021775,  4.47707493,  4.45522948],\n",
       "       [-0.06608127,  0.54214237,  4.45985831,  4.57930469]])"
      ]
     },
     "execution_count": 2,
     "metadata": {},
     "output_type": "execute_result"
    }
   ],
   "source": [
    "R_approx"
   ]
  },
  {
   "cell_type": "code",
   "execution_count": 3,
   "id": "41aabbd3-9b00-4414-b87c-4a3c1717ba96",
   "metadata": {},
   "outputs": [
    {
     "data": {
      "text/plain": [
       "array([[-0.24097949, -0.7609249 ,  0.25822011,  0.49915279],\n",
       "       [-0.16527424, -0.49770817,  0.14302455, -0.79333348],\n",
       "       [-0.40945058, -0.15916667, -0.89806074,  0.0193043 ],\n",
       "       [-0.60226225,  0.29403493,  0.22558572, -0.24721238],\n",
       "       [-0.61987395,  0.24797038,  0.23550869,  0.24491194]])"
      ]
     },
     "execution_count": 3,
     "metadata": {},
     "output_type": "execute_result"
    }
   ],
   "source": [
    "U"
   ]
  },
  {
   "cell_type": "code",
   "execution_count": 4,
   "id": "5711d025-1d12-4434-9801-b3a2d3a85584",
   "metadata": {},
   "outputs": [
    {
     "data": {
      "text/plain": [
       "array([[-0.24097949, -0.7609249 ],\n",
       "       [-0.16527424, -0.49770817],\n",
       "       [-0.40945058, -0.15916667],\n",
       "       [-0.60226225,  0.29403493],\n",
       "       [-0.61987395,  0.24797038]])"
      ]
     },
     "execution_count": 4,
     "metadata": {},
     "output_type": "execute_result"
    }
   ],
   "source": [
    "U_k"
   ]
  },
  {
   "cell_type": "code",
   "execution_count": 5,
   "id": "faff6f00-9715-4c82-ab4f-6346a75197ac",
   "metadata": {},
   "outputs": [
    {
     "data": {
      "text/plain": [
       "array([9.9746788 , 6.90131816, 3.36122829, 1.89201874])"
      ]
     },
     "execution_count": 5,
     "metadata": {},
     "output_type": "execute_result"
    }
   ],
   "source": [
    "S"
   ]
  },
  {
   "cell_type": "code",
   "execution_count": 6,
   "id": "f5e1585d-7008-44f6-856c-a8b5bb2d7b4b",
   "metadata": {},
   "outputs": [
    {
     "data": {
      "text/plain": [
       "array([[9.9746788 , 0.        ],\n",
       "       [0.        , 6.90131816]])"
      ]
     },
     "execution_count": 6,
     "metadata": {},
     "output_type": "execute_result"
    }
   ],
   "source": [
    "S_k"
   ]
  },
  {
   "cell_type": "code",
   "execution_count": 7,
   "id": "a7876a56-f676-4746-a047-39fb5311f499",
   "metadata": {},
   "outputs": [
    {
     "data": {
      "text/plain": [
       "array([[-0.22812213, -0.17567112, -0.61261933, -0.73606896],\n",
       "       [-0.86282413, -0.31790608,  0.39268245,  0.01645408],\n",
       "       [ 0.28713849,  0.03335337,  0.68590167, -0.6678158 ],\n",
       "       [-0.34791709,  0.93110845, -0.00607933, -0.10933345]])"
      ]
     },
     "execution_count": 7,
     "metadata": {},
     "output_type": "execute_result"
    }
   ],
   "source": [
    "VT"
   ]
  },
  {
   "cell_type": "code",
   "execution_count": 8,
   "id": "12b31f9f-d787-4cc4-aaea-423e1831a7be",
   "metadata": {},
   "outputs": [
    {
     "data": {
      "text/plain": [
       "array([[-0.22812213, -0.17567112, -0.61261933, -0.73606896],\n",
       "       [-0.86282413, -0.31790608,  0.39268245,  0.01645408]])"
      ]
     },
     "execution_count": 8,
     "metadata": {},
     "output_type": "execute_result"
    }
   ],
   "source": [
    "VT_k"
   ]
  },
  {
   "cell_type": "code",
   "execution_count": 9,
   "id": "7ae66607-e7b4-471b-b412-c82d87035469",
   "metadata": {},
   "outputs": [
    {
     "name": "stdout",
     "output_type": "stream",
     "text": [
      "Empfehlung für Nutzer B:\n",
      "Film 2 mit geschätzter Bewertung: 1.38\n",
      "Film 3 mit geschätzter Bewertung: -0.34\n"
     ]
    }
   ],
   "source": [
    "import numpy as np\n",
    "\n",
    "# Beispiel: Original mit Lücken (0 = keine Bewertung)\n",
    "R = np.array([\n",
    "    [5, 3, 0, 1],\n",
    "    [4, 0, 0, 1],\n",
    "    [1, 1, 0, 5],\n",
    "    [0, 0, 5, 4],\n",
    "    [0, 1, 5, 4],\n",
    "], dtype=float)\n",
    "\n",
    "# SVD\n",
    "U, S, VT = np.linalg.svd(R, full_matrices=False)\n",
    "k = 2  # z. B. Top-2-Komp.\n",
    "U_k = U[:, :k]\n",
    "S_k = np.diag(S[:k])\n",
    "VT_k = VT[:k, :]\n",
    "\n",
    "# Rekonstruierte Matrix\n",
    "R_pred = U_k @ S_k @ VT_k\n",
    "\n",
    "# Empfehlung für Nutzer B (Index 1)\n",
    "user_index = 1\n",
    "original_ratings = R[user_index]\n",
    "predicted_ratings = R_pred[user_index]\n",
    "\n",
    "# Finde nur Filme, die Nutzer B **nicht bewertet** hat\n",
    "unrated_indices = np.where(original_ratings == 0)[0]\n",
    "\n",
    "# Empfehlungen: sortiert nach vorhergesagtem Wert\n",
    "recommendations = sorted(\n",
    "    [(i, predicted_ratings[i]) for i in unrated_indices],\n",
    "    key=lambda x: x[1],\n",
    "    reverse=True\n",
    ")\n",
    "\n",
    "# Ausgabe\n",
    "print(\"Empfehlung für Nutzer B:\")\n",
    "for film_index, score in recommendations:\n",
    "    print(f\"Film {film_index + 1} mit geschätzter Bewertung: {score:.2f}\")\n"
   ]
  },
  {
   "cell_type": "code",
   "execution_count": 10,
   "id": "3707b309-4b6a-483b-bbd2-29a343a5e424",
   "metadata": {},
   "outputs": [],
   "source": [
    "import numpy as np\n",
    "\n",
    "# Bewertungsmatrix (Nutzer x Filme)\n",
    "R = np.array([\n",
    "    [5, 3, 0, 1],\n",
    "    [4, 0, 0, 1],\n",
    "    [1, 1, 0, 5],\n",
    "    [0, 0, 5, 4],\n",
    "    [0, 1, 5, 4],\n",
    "], dtype=float)\n"
   ]
  },
  {
   "cell_type": "code",
   "execution_count": 11,
   "id": "ec71478b-e6c8-490e-8f12-a7c6c233763a",
   "metadata": {},
   "outputs": [],
   "source": [
    "# Volle SVD-Zerlegung\n",
    "U, S, VT = np.linalg.svd(R, full_matrices=False)\n",
    "\n",
    "# Wähle nur Top-2 Komponenten (k = 2)\n",
    "k = 2\n",
    "U_k = U[:, :k]         # Nutzer-Vektoren (5 Nutzer, 2 Themen)\n",
    "S_k = np.diag(S[:k])   # Diagonalmatrix mit Top-2 Singulärwerten\n",
    "VT_k = VT[:k, :]       # Filme (2 Themen, 4 Filme)\n"
   ]
  },
  {
   "cell_type": "code",
   "execution_count": 12,
   "id": "619f5a16-f91c-4632-aa49-a23a870c9fea",
   "metadata": {},
   "outputs": [
    {
     "name": "stdout",
     "output_type": "stream",
     "text": [
      "U_k (Nutzer im latenten Raum):\n",
      "[[-0.24 -0.76]\n",
      " [-0.17 -0.5 ]\n",
      " [-0.41 -0.16]\n",
      " [-0.6   0.29]\n",
      " [-0.62  0.25]]\n",
      "\n",
      "S_k (Wichtigkeit der Themen – Singulärwerte):\n",
      "[[9.97 0.  ]\n",
      " [0.   6.9 ]]\n",
      "\n",
      "VT_k (Filme im latenten Raum – transponiert):\n",
      "[[-0.23 -0.18 -0.61 -0.74]\n",
      " [-0.86 -0.32  0.39  0.02]]\n"
     ]
    }
   ],
   "source": [
    "np.set_printoptions(precision=2, suppress=True)  # schönere Anzeige\n",
    "\n",
    "print(\"U_k (Nutzer im latenten Raum):\")\n",
    "print(U_k)\n",
    "\n",
    "print(\"\\nS_k (Wichtigkeit der Themen – Singulärwerte):\")\n",
    "print(S_k)\n",
    "\n",
    "print(\"\\nVT_k (Filme im latenten Raum – transponiert):\")\n",
    "print(VT_k)\n"
   ]
  },
  {
   "cell_type": "code",
   "execution_count": 15,
   "id": "2c678951-bdb6-4512-9708-5e2fcf8caa41",
   "metadata": {},
   "outputs": [
    {
     "ename": "SyntaxError",
     "evalue": "cannot assign to expression (3007564317.py, line 1)",
     "output_type": "error",
     "traceback": [
      "\u001b[0;36m  Cell \u001b[0;32mIn[15], line 1\u001b[0;36m\u001b[0m\n\u001b[0;31m    term1 = -0.24 * 9.97 * -0.61 = 1.460\u001b[0m\n\u001b[0m            ^\u001b[0m\n\u001b[0;31mSyntaxError\u001b[0m\u001b[0;31m:\u001b[0m cannot assign to expression\n"
     ]
    }
   ],
   "source": [
    "term1 = -0.24 * 9.97 * -0.61 = 1.460\n",
    "term2 = -0.76 * 6.9 *  0.39 = -2.045\n",
    "\n",
    "rating = term1 + term2\n",
    "rating\n"
   ]
  },
  {
   "cell_type": "code",
   "execution_count": null,
   "id": "c296aa3c-75c8-4882-a46d-f37fd4ef509e",
   "metadata": {},
   "outputs": [],
   "source": []
  }
 ],
 "metadata": {
  "kernelspec": {
   "display_name": "Python 3 (ipykernel)",
   "language": "python",
   "name": "python3"
  },
  "language_info": {
   "codemirror_mode": {
    "name": "ipython",
    "version": 3
   },
   "file_extension": ".py",
   "mimetype": "text/x-python",
   "name": "python",
   "nbconvert_exporter": "python",
   "pygments_lexer": "ipython3",
   "version": "3.10.16"
  }
 },
 "nbformat": 4,
 "nbformat_minor": 5
}
