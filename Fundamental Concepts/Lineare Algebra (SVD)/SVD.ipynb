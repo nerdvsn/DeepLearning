{
 "cells": [
  {
   "cell_type": "code",
   "execution_count": 1,
   "id": "374cd2d1-840b-4cc4-839d-ed3c1c0d9970",
   "metadata": {},
   "outputs": [],
   "source": [
    "import numpy as np"
   ]
  },
  {
   "cell_type": "code",
   "execution_count": 2,
   "id": "a81ff9c5-bc5a-490b-9bfd-0adbbc6ba6a0",
   "metadata": {},
   "outputs": [],
   "source": [
    "A = np.array([[1,2], [3,4]])  \n",
    "B = np.array([[5,6], [7,8]]) "
   ]
  },
  {
   "cell_type": "code",
   "execution_count": 3,
   "id": "a76e6582-8327-44f3-acb5-98210c6359dc",
   "metadata": {},
   "outputs": [
    {
     "data": {
      "text/plain": [
       "array([[1, 2],\n",
       "       [3, 4]])"
      ]
     },
     "execution_count": 3,
     "metadata": {},
     "output_type": "execute_result"
    }
   ],
   "source": [
    "A"
   ]
  },
  {
   "cell_type": "code",
   "execution_count": 4,
   "id": "accb593c-e598-4845-a041-35c0acee881a",
   "metadata": {},
   "outputs": [
    {
     "data": {
      "text/plain": [
       "array([[5, 6],\n",
       "       [7, 8]])"
      ]
     },
     "execution_count": 4,
     "metadata": {},
     "output_type": "execute_result"
    }
   ],
   "source": [
    "B"
   ]
  },
  {
   "cell_type": "code",
   "execution_count": 8,
   "id": "2aa12fe2-6478-41d9-95fe-f8f812c7c7a7",
   "metadata": {},
   "outputs": [
    {
     "name": "stdout",
     "output_type": "stream",
     "text": [
      "[[19 22]\n",
      " [43 50]]\n"
     ]
    }
   ],
   "source": [
    "# Matrix multiplication\n",
    "print(A @ B)"
   ]
  },
  {
   "cell_type": "code",
   "execution_count": 9,
   "id": "25a7b7fd-ddb4-48e4-a77a-702ed7e84a3d",
   "metadata": {},
   "outputs": [],
   "source": [
    "import numpy as np\n",
    "\n",
    "def simple_svd(A):\n",
    "    # 1. Berechne A^T A und A A^T\n",
    "    ATA = A.T @ A\n",
    "    AAT = A @ A.T\n",
    "\n",
    "    # 2. Eigenzerlegung\n",
    "    eigvals_V, V = np.linalg.eigh(ATA)  # V: Spalten sind Eigenvektoren von ATA\n",
    "    eigvals_U, U = np.linalg.eigh(AAT)  # U: Spalten sind Eigenvektoren von AAT\n",
    "\n",
    "    # 3. Sortiere Eigenwerte & Vektoren (absteigend)\n",
    "    sorted_indices = np.argsort(eigvals_V)[::-1]\n",
    "    eigvals_V = eigvals_V[sorted_indices]\n",
    "    V = V[:, sorted_indices]\n",
    "\n",
    "    sorted_indices_U = np.argsort(eigvals_U)[::-1]\n",
    "    eigvals_U = eigvals_U[sorted_indices_U]\n",
    "    U = U[:, sorted_indices_U]\n",
    "\n",
    "    # 4. Berechne Singulärwerte (Wurzel aus Eigenwerten von A^T A)\n",
    "    singular_values = np.sqrt(np.maximum(eigvals_V, 0))  # gegen negative Rundungsfehler schützen\n",
    "\n",
    "    # 5. Baue Sigma-Matrix (Diagonalmatrix)\n",
    "    m, n = A.shape\n",
    "    Sigma = np.zeros((m, n))\n",
    "    for i in range(min(m, n)):\n",
    "        Sigma[i, i] = singular_values[i]\n",
    "\n",
    "    return U, Sigma, V.T\n"
   ]
  },
  {
   "cell_type": "code",
   "execution_count": 10,
   "id": "9229a1c9-5f77-49c6-8758-22bb5f9f54a5",
   "metadata": {},
   "outputs": [
    {
     "name": "stdout",
     "output_type": "stream",
     "text": [
      "U:\n",
      " [[-0.84 -0.21  0.5 ]\n",
      " [-0.53  0.12 -0.84]\n",
      " [-0.11  0.97  0.21]]\n",
      "\n",
      "Sigma:\n",
      " [[5.87 0.  ]\n",
      " [0.   4.06]\n",
      " [0.   0.  ]]\n",
      "\n",
      "V^T:\n",
      " [[-0.99 -0.17]\n",
      " [ 0.17 -0.99]]\n",
      "\n",
      "Rekonstruierte A:\n",
      " [[ 4.71  1.66]\n",
      " [ 3.16  0.06]\n",
      " [ 1.33 -3.77]]\n"
     ]
    }
   ],
   "source": [
    "A = np.array([\n",
    "    [5, 0],\n",
    "    [3, 1],\n",
    "    [0, 4]\n",
    "], dtype=float)\n",
    "\n",
    "U, Sigma, VT = simple_svd(A)\n",
    "\n",
    "print(\"U:\\n\", np.round(U, 2))\n",
    "print(\"\\nSigma:\\n\", np.round(Sigma, 2))\n",
    "print(\"\\nV^T:\\n\", np.round(VT, 2))\n",
    "\n",
    "# Rekonstruktion testen\n",
    "A_reconstructed = U @ Sigma @ VT\n",
    "print(\"\\nRekonstruierte A:\\n\", np.round(A_reconstructed, 2))\n"
   ]
  },
  {
   "cell_type": "code",
   "execution_count": 11,
   "id": "aa3d50e8-c523-4cda-91e4-07c39e4f9174",
   "metadata": {},
   "outputs": [],
   "source": [
    "def better_svd(A, k=None):\n",
    "    # Schritt 1: Eigenzerlegung von A^T A\n",
    "    ATA = A.T @ A\n",
    "    eigvals, V = np.linalg.eigh(ATA)\n",
    "\n",
    "    # Sortieren (absteigend)\n",
    "    idx = np.argsort(eigvals)[::-1]\n",
    "    eigvals = eigvals[idx]\n",
    "    V = V[:, idx]\n",
    "\n",
    "    # Singulärwerte berechnen\n",
    "    singular_values = np.sqrt(np.maximum(eigvals, 0))\n",
    "\n",
    "    # Falls k gegeben, auf Top-k begrenzen\n",
    "    if k is not None:\n",
    "        singular_values = singular_values[:k]\n",
    "        V = V[:, :k]\n",
    "\n",
    "    # U berechnen: U_i = (1/σ_i) * A * V_i\n",
    "    U = np.zeros((A.shape[0], len(singular_values)))\n",
    "    for i in range(len(singular_values)):\n",
    "        if singular_values[i] > 1e-10:\n",
    "            U[:, i] = A @ V[:, i] / singular_values[i]\n",
    "\n",
    "    # Sigma bauen\n",
    "    Sigma = np.zeros((U.shape[1], V.shape[1]))\n",
    "    np.fill_diagonal(Sigma, singular_values)\n",
    "\n",
    "    return U, Sigma, V.T\n"
   ]
  },
  {
   "cell_type": "code",
   "execution_count": 12,
   "id": "ff617c09-7b57-4a80-bac4-d044bcd4baa3",
   "metadata": {},
   "outputs": [
    {
     "name": "stdout",
     "output_type": "stream",
     "text": [
      "U:\n",
      " [[-0.84  0.21]\n",
      " [-0.53 -0.12]\n",
      " [-0.11 -0.97]]\n",
      "\n",
      "Sigma:\n",
      " [[5.87 0.  ]\n",
      " [0.   4.06]]\n",
      "\n",
      "V^T:\n",
      " [[-0.99 -0.17]\n",
      " [ 0.17 -0.99]]\n",
      "\n",
      "Rekonstruierte A:\n",
      " [[ 5. -0.]\n",
      " [ 3.  1.]\n",
      " [ 0.  4.]]\n"
     ]
    }
   ],
   "source": [
    "A = np.array([\n",
    "    [5, 0],\n",
    "    [3, 1],\n",
    "    [0, 4]\n",
    "], dtype=float)\n",
    "\n",
    "U, Sigma, VT = better_svd(A)\n",
    "\n",
    "print(\"U:\\n\", np.round(U, 2))\n",
    "print(\"\\nSigma:\\n\", np.round(Sigma, 2))\n",
    "print(\"\\nV^T:\\n\", np.round(VT, 2))\n",
    "\n",
    "# Rekonstruktion\n",
    "A_recon = U @ Sigma @ VT\n",
    "print(\"\\nRekonstruierte A:\\n\", np.round(A_recon, 2))\n"
   ]
  },
  {
   "cell_type": "code",
   "execution_count": 14,
   "id": "ef967ae2-86b8-49c0-82ec-5a956f7aed38",
   "metadata": {},
   "outputs": [],
   "source": [
    "# SVD with numpy\n",
    "\n",
    "import numpy as np\n",
    "from numpy.linalg import svd\n",
    "\n",
    "# Beispielmatrix: 3 Nutzer, 2 Filme\n",
    "A = np.array([\n",
    "    [5, 0],\n",
    "    [3, 1],\n",
    "    [0, 4]\n",
    "], dtype=float)\n",
    "\n",
    "U, S, VT = svd(A, full_matrices=False)"
   ]
  },
  {
   "cell_type": "code",
   "execution_count": 15,
   "id": "284d21af-54ef-48e7-b599-3ba238c27a50",
   "metadata": {},
   "outputs": [
    {
     "data": {
      "text/plain": [
       "array([[-0.83886765,  0.20790743],\n",
       "       [-0.53205897, -0.11800657],\n",
       "       [-0.11495354, -0.97100409]])"
      ]
     },
     "execution_count": 15,
     "metadata": {},
     "output_type": "execute_result"
    }
   ],
   "source": [
    "U"
   ]
  },
  {
   "cell_type": "code",
   "execution_count": 16,
   "id": "958e6ec8-5621-4752-a497-ca0d69f38a10",
   "metadata": {},
   "outputs": [
    {
     "data": {
      "text/plain": [
       "array([5.87485133, 4.06031056])"
      ]
     },
     "execution_count": 16,
     "metadata": {},
     "output_type": "execute_result"
    }
   ],
   "source": [
    "S"
   ]
  },
  {
   "cell_type": "code",
   "execution_count": 20,
   "id": "44a7df97-6a25-42f1-b0bb-8b9a3489c745",
   "metadata": {},
   "outputs": [
    {
     "data": {
      "text/plain": [
       "array([[5.87485133, 0.        ],\n",
       "       [0.        , 4.06031056]])"
      ]
     },
     "execution_count": 20,
     "metadata": {},
     "output_type": "execute_result"
    }
   ],
   "source": [
    "Sigma = np.diag(S)\n",
    "Sigma"
   ]
  },
  {
   "cell_type": "code",
   "execution_count": 17,
   "id": "eb8ddb75-ab15-4895-8a07-0a7f1f49be4e",
   "metadata": {},
   "outputs": [
    {
     "data": {
      "text/plain": [
       "array([[-0.98564454, -0.16883374],\n",
       "       [ 0.16883374, -0.98564454]])"
      ]
     },
     "execution_count": 17,
     "metadata": {},
     "output_type": "execute_result"
    }
   ],
   "source": [
    "VT"
   ]
  },
  {
   "cell_type": "code",
   "execution_count": 21,
   "id": "60320747-aa3d-452c-ab51-cf4fea0ee0a6",
   "metadata": {},
   "outputs": [
    {
     "data": {
      "text/plain": [
       "array([[ 5.00000000e+00, -5.73053513e-16],\n",
       "       [ 3.00000000e+00,  1.00000000e+00],\n",
       "       [-1.11022302e-16,  4.00000000e+00]])"
      ]
     },
     "execution_count": 21,
     "metadata": {},
     "output_type": "execute_result"
    }
   ],
   "source": [
    "A_re = U @ Sigma @ VT\n",
    "A_re"
   ]
  },
  {
   "cell_type": "code",
   "execution_count": null,
   "id": "31de4d0f-5ef3-4431-9b4b-5886dcb6672d",
   "metadata": {},
   "outputs": [],
   "source": []
  }
 ],
 "metadata": {
  "kernelspec": {
   "display_name": "Python 3 (ipykernel)",
   "language": "python",
   "name": "python3"
  },
  "language_info": {
   "codemirror_mode": {
    "name": "ipython",
    "version": 3
   },
   "file_extension": ".py",
   "mimetype": "text/x-python",
   "name": "python",
   "nbconvert_exporter": "python",
   "pygments_lexer": "ipython3",
   "version": "3.10.16"
  }
 },
 "nbformat": 4,
 "nbformat_minor": 5
}
