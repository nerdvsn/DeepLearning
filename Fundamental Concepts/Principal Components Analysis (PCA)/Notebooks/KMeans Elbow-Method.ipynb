{
 "cells": [
  {
   "cell_type": "markdown",
   "id": "7915eeb4",
   "metadata": {},
   "source": [
    "### Anwendung der Elbow-Methode:\n",
    "    \n",
    "* Die Elbow-Methode wird verwendet, um die optimale Anzahl von Clustern für den KMeans-Algorithmus zu bestimmen. "
   ]
  },
  {
   "cell_type": "code",
   "execution_count": 1,
   "id": "930676b3",
   "metadata": {},
   "outputs": [
    {
     "data": {
      "text/html": [
       "<div>\n",
       "<style scoped>\n",
       "    .dataframe tbody tr th:only-of-type {\n",
       "        vertical-align: middle;\n",
       "    }\n",
       "\n",
       "    .dataframe tbody tr th {\n",
       "        vertical-align: top;\n",
       "    }\n",
       "\n",
       "    .dataframe thead th {\n",
       "        text-align: right;\n",
       "    }\n",
       "</style>\n",
       "<table border=\"1\" class=\"dataframe\">\n",
       "  <thead>\n",
       "    <tr style=\"text-align: right;\">\n",
       "      <th></th>\n",
       "      <th>price</th>\n",
       "      <th>yearOfRegistration</th>\n",
       "      <th>powerPS</th>\n",
       "      <th>kilometer</th>\n",
       "      <th>model</th>\n",
       "      <th>fuelType</th>\n",
       "      <th>name</th>\n",
       "    </tr>\n",
       "  </thead>\n",
       "  <tbody>\n",
       "    <tr>\n",
       "      <th>0</th>\n",
       "      <td>1450</td>\n",
       "      <td>1997</td>\n",
       "      <td>75</td>\n",
       "      <td>90000</td>\n",
       "      <td>andere</td>\n",
       "      <td>benzin</td>\n",
       "      <td>Toyota_Toyota_Starlet_1._Hand__TÜV_neu</td>\n",
       "    </tr>\n",
       "    <tr>\n",
       "      <th>1</th>\n",
       "      <td>13100</td>\n",
       "      <td>2005</td>\n",
       "      <td>280</td>\n",
       "      <td>5000</td>\n",
       "      <td>golf</td>\n",
       "      <td>benzin</td>\n",
       "      <td>R32_tauschen_oder_kaufen</td>\n",
       "    </tr>\n",
       "    <tr>\n",
       "      <th>2</th>\n",
       "      <td>4500</td>\n",
       "      <td>2008</td>\n",
       "      <td>87</td>\n",
       "      <td>90000</td>\n",
       "      <td>yaris</td>\n",
       "      <td>benzin</td>\n",
       "      <td>Toyota_Yaris_1.3_VVT_i</td>\n",
       "    </tr>\n",
       "    <tr>\n",
       "      <th>3</th>\n",
       "      <td>6000</td>\n",
       "      <td>2009</td>\n",
       "      <td>177</td>\n",
       "      <td>125000</td>\n",
       "      <td>3er</td>\n",
       "      <td>diesel</td>\n",
       "      <td>320_Alpinweiss_Kohlenstoff</td>\n",
       "    </tr>\n",
       "    <tr>\n",
       "      <th>4</th>\n",
       "      <td>3990</td>\n",
       "      <td>1999</td>\n",
       "      <td>118</td>\n",
       "      <td>90000</td>\n",
       "      <td>3er</td>\n",
       "      <td>benzin</td>\n",
       "      <td>BMW_318i_E46_+++_1._Hand_+++_Liebhaberfahrzeug</td>\n",
       "    </tr>\n",
       "  </tbody>\n",
       "</table>\n",
       "</div>"
      ],
      "text/plain": [
       "   price  yearOfRegistration  powerPS  kilometer   model fuelType  \\\n",
       "0   1450                1997       75      90000  andere   benzin   \n",
       "1  13100                2005      280       5000    golf   benzin   \n",
       "2   4500                2008       87      90000   yaris   benzin   \n",
       "3   6000                2009      177     125000     3er   diesel   \n",
       "4   3990                1999      118      90000     3er   benzin   \n",
       "\n",
       "                                             name  \n",
       "0          Toyota_Toyota_Starlet_1._Hand__TÜV_neu  \n",
       "1                        R32_tauschen_oder_kaufen  \n",
       "2                          Toyota_Yaris_1.3_VVT_i  \n",
       "3                      320_Alpinweiss_Kohlenstoff  \n",
       "4  BMW_318i_E46_+++_1._Hand_+++_Liebhaberfahrzeug  "
      ]
     },
     "execution_count": 1,
     "metadata": {},
     "output_type": "execute_result"
    }
   ],
   "source": [
    "import pandas as pd\n",
    "\n",
    "df = pd.read_csv(\"./autos_prepared.csv\")\n",
    "\n",
    "df.head()"
   ]
  },
  {
   "cell_type": "code",
   "execution_count": 2,
   "id": "1272bb86",
   "metadata": {},
   "outputs": [],
   "source": [
    "X = df[[\"yearOfRegistration\", \"price\"]]"
   ]
  },
  {
   "cell_type": "code",
   "execution_count": 3,
   "id": "a5b6e833",
   "metadata": {},
   "outputs": [],
   "source": [
    "from sklearn.preprocessing import StandardScaler\n",
    "\n",
    "scaler = StandardScaler()\n",
    "X_transformed = scaler.fit_transform(X)"
   ]
  },
  {
   "cell_type": "code",
   "execution_count": 4,
   "id": "d3dc1782",
   "metadata": {},
   "outputs": [],
   "source": [
    "from sklearn.cluster import KMeans"
   ]
  },
  {
   "cell_type": "code",
   "execution_count": 5,
   "id": "2606cfea",
   "metadata": {},
   "outputs": [],
   "source": [
    "scores = []\n",
    "for n in range(2, 10):\n",
    "    model = KMeans(n_clusters = n)\n",
    "    model.fit(X_transformed)\n",
    "    scores.append(model.inertia_)"
   ]
  },
  {
   "cell_type": "code",
   "execution_count": 6,
   "id": "0760ccd3",
   "metadata": {},
   "outputs": [
    {
     "data": {
      "text/plain": [
       "[287.84614177815604,\n",
       " 177.66345786332468,\n",
       " 148.98555444615485,\n",
       " 119.16825063277052,\n",
       " 91.95723130680983,\n",
       " 83.03244416612985,\n",
       " 64.06318319982873,\n",
       " 56.3961023311151]"
      ]
     },
     "execution_count": 6,
     "metadata": {},
     "output_type": "execute_result"
    }
   ],
   "source": [
    "scores"
   ]
  },
  {
   "cell_type": "code",
   "execution_count": 7,
   "id": "b443b770",
   "metadata": {},
   "outputs": [
    {
     "data": {
      "image/png": "[encoded data removed]",
      "text/plain": [
       "<Figure size 640x480 with 1 Axes>"
      ]
     },
     "metadata": {},
     "output_type": "display_data"
    }
   ],
   "source": [
    "%matplotlib inline\n",
    "\n",
    "import matplotlib.pyplot as plt\n",
    "\n",
    "plt.plot(range(2, 10), scores)\n",
    "plt.show()"
   ]
  },
  {
   "cell_type": "code",
   "execution_count": null,
   "id": "f3910cf7",
   "metadata": {},
   "outputs": [],
   "source": []
  }
 ],
 "metadata": {
  "kernelspec": {
   "display_name": "Python 3 (ipykernel)",
   "language": "python",
   "name": "python3"
  },
  "language_info": {
   "codemirror_mode": {
    "name": "ipython",
    "version": 3
   },
   "file_extension": ".py",
   "mimetype": "text/x-python",
   "name": "python",
   "nbconvert_exporter": "python",
   "pygments_lexer": "ipython3",
   "version": "3.10.14"
  }
 },
 "nbformat": 4,
 "nbformat_minor": 5
}
